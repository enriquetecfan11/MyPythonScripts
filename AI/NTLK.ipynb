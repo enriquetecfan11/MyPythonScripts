{
 "cells": [
  {
   "cell_type": "code",
   "execution_count": null,
   "metadata": {},
   "outputs": [],
   "source": [
    "import nltk\n",
    "from nltk.corpus import stopwords\n",
    "from nltk.tokenize import word_tokenize, sent_tokenize\n",
    "from nltk.probability import FreqDist\n",
    "from deep_translator import GoogleTranslator\n",
    "import openai\n"
   ]
  },
  {
   "cell_type": "code",
   "execution_count": null,
   "metadata": {},
   "outputs": [],
   "source": [
    "nltk.download('punkt')\n",
    "nltk.download('stopwords')"
   ]
  },
  {
   "cell_type": "code",
   "execution_count": null,
   "metadata": {},
   "outputs": [],
   "source": [
    "texto = \"A home energy management system that maintains energy consumption and utility bills, with a focus on extending availability of hot water and A\\/C\"\n",
    "cantidad_oraciones = 3"
   ]
  },
  {
   "cell_type": "code",
   "execution_count": null,
   "metadata": {},
   "outputs": [],
   "source": [
    "# Traduce un texto en inglés al español\n",
    "translated_text = GoogleTranslator(source='auto', target='spanish').translate(texto)\n",
    "\n",
    "print(translated_text)"
   ]
  },
  {
   "cell_type": "code",
   "execution_count": null,
   "metadata": {},
   "outputs": [],
   "source": [
    "# Tokenización de palabras y oraciones\n",
    "palabras = word_tokenize(translated_text)\n",
    "oraciones = sent_tokenize(translated_text)\n",
    "\n",
    "# Eliminación de stopwords\n",
    "palabras = [palabra.lower() for palabra in palabras if palabra.isalnum() and palabra.lower() not in stopwords.words('english')]\n",
    "\n",
    "# Cálculo de frecuencia de palabras\n",
    "frecuencia = FreqDist(palabras)\n",
    "\n",
    "# Obtención de las oraciones más relevantes\n",
    "oraciones_importantes = sorted(oraciones, key=lambda oracion: sum(frecuencia[palabra] for palabra in word_tokenize(oracion)))\n",
    "\n",
    "# Tomar las primeras 'cantidad_oraciones' oraciones\n",
    "resumen = ' '.join(oraciones_importantes[:cantidad_oraciones])\n",
    "\n",
    "print(resumen)"
   ]
  },
  {
   "cell_type": "code",
   "execution_count": null,
   "metadata": {},
   "outputs": [],
   "source": [
    "def extender_con_gpt3(texto, temperatura=0.7, max_tokens=100):\n",
    "    # Parámetros de la llamada a la API de GPT-3\n",
    "    prompt = f\"Extiende la siguiente idea:\\n\\n'{texto}'\\n\\nExtensión:\"\n",
    "    response = openai.Completion.create(\n",
    "        engine=\"text-davinci-003\",\n",
    "        prompt=prompt,\n",
    "        temperature=temperatura,\n",
    "        max_tokens=max_tokens,\n",
    "    )\n",
    "\n",
    "    # Extraer el texto extendido de la respuesta de GPT-3\n",
    "    texto_extendido = response.choices[0].text.strip()\n",
    "    return texto_extendido"
   ]
  },
  {
   "cell_type": "code",
   "execution_count": null,
   "metadata": {},
   "outputs": [],
   "source": [
    "extender_con_gpt3(translated_text)"
   ]
  }
 ],
 "metadata": {
  "kernelspec": {
   "display_name": "base",
   "language": "python",
   "name": "python3"
  },
  "language_info": {
   "codemirror_mode": {
    "name": "ipython",
    "version": 3
   },
   "file_extension": ".py",
   "mimetype": "text/x-python",
   "name": "python",
   "nbconvert_exporter": "python",
   "pygments_lexer": "ipython3",
   "version": "3.11.3"
  }
 },
 "nbformat": 4,
 "nbformat_minor": 2
}
