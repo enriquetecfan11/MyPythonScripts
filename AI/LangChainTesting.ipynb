{
 "cells": [
  {
   "cell_type": "code",
   "execution_count": 12,
   "metadata": {},
   "outputs": [],
   "source": [
    "import os\n",
    "\n",
    "from langchain.chains import ConversationChain\n",
    "from langchain import HuggingFaceHub, PromptTemplate, LLMChain\n",
    "\n",
    "from langchain.prompts import ChatPromptTemplate\n",
    "\n",
    "\n",
    "from dotenv import load_dotenv\n",
    "load_dotenv()\n",
    "HUGGING_FACE = os.getenv('HUGGING_FACE_HUB_API_KEY')"
   ]
  },
  {
   "cell_type": "code",
   "execution_count": 13,
   "metadata": {},
   "outputs": [],
   "source": [
    "#repo_id = 'tiiuae/falcon-7b'\n",
    "#repo_id = 'declare-lab/flan-alpaca-gpt4-xl'\n",
    "#repo_id = 'declare-lab/flan-alpaca-large'\n",
    "#repo_id = 'databricks/dolly-v2-3b'\n",
    "#repo_id = 'declare-lab/flan-alpaca-large'\n",
    "#repo_id = 'DeepESP/gpt2-spanish'\n",
    "#repo_id = 'EleutherAI/gpt-neo-2.7B'\n",
    "#repo_id = 'TheBloke/Llama-2-7B-Chat-GGML'\n",
    "repo_id = 'EleutherAI/gpt-neo-1.3B'\n",
    "#repo_id = 'EleutherAI/gpt-neo-125M'\n",
    "#repo_id = 'EleutherAI/gpt-neo-2.7B'\n",
    "\n",
    "\n",
    "\n",
    "llm = HuggingFaceHub(huggingfacehub_api_token = HUGGING_FACE,repo_id=repo_id, model_kwargs = {'temperature': 0.1, \"max_length\":50})"
   ]
  },
  {
   "cell_type": "code",
   "execution_count": 14,
   "metadata": {},
   "outputs": [],
   "source": [
    "template = \"\"\"\n",
    "{query}\n",
    "\"\"\""
   ]
  },
  {
   "cell_type": "code",
   "execution_count": 15,
   "metadata": {},
   "outputs": [],
   "source": [
    "prompt = PromptTemplate(input_variables=[\"query\"], template=template)\n",
    "\n",
    "chain = LLMChain(llm=llm, prompt=prompt, output_key=\"story\")\n"
   ]
  },
  {
   "cell_type": "code",
   "execution_count": 16,
   "metadata": {},
   "outputs": [
    {
     "name": "stdout",
     "output_type": "stream",
     "text": [
      "\n",
      "¿Cuál es la capital de España?\n",
      "\n",
      "¿Cuál es la capital de España?\n",
      "\n",
      "¿Cuá\n"
     ]
    }
   ],
   "source": [
    "#query = input(\"Enter a query:\")\n",
    "query = \"¿Cuál es la capital de España?\"\n",
    "response = chain({\"query\":query})\n",
    "print(response[\"story\"])"
   ]
  }
 ],
 "metadata": {
  "kernelspec": {
   "display_name": "LocalLLM",
   "language": "python",
   "name": "python3"
  },
  "language_info": {
   "codemirror_mode": {
    "name": "ipython",
    "version": 3
   },
   "file_extension": ".py",
   "mimetype": "text/x-python",
   "name": "python",
   "nbconvert_exporter": "python",
   "pygments_lexer": "ipython3",
   "version": "3.11.5"
  }
 },
 "nbformat": 4,
 "nbformat_minor": 2
}
