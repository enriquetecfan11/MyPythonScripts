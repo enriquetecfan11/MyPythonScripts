{
 "cells": [
  {
   "cell_type": "code",
   "execution_count": 170,
   "metadata": {},
   "outputs": [],
   "source": [
    "import os\n",
    "\n",
    "from langchain.chains import ConversationChain\n",
    "from langchain import HuggingFaceHub, PromptTemplate, LLMChain\n",
    "\n",
    "from langchain.agents import initialize_agent\n",
    "from langchain.agents import Tool\n",
    "from langchain.agents import AgentType\n",
    "from langchain.memory import ConversationBufferMemory\n",
    "from langchain.llms import OpenAI\n",
    "from langchain.utilities import SerpAPIWrapper\n",
    "from langchain.agents import initialize_agent\n",
    "\n",
    "from dotenv import load_dotenv\n",
    "load_dotenv()\n",
    "HUGGING_FACE = os.getenv('HUGGING_FACE_HUB_API_KEY')"
   ]
  },
  {
   "cell_type": "code",
   "execution_count": 171,
   "metadata": {},
   "outputs": [
    {
     "name": "stdout",
     "output_type": "stream",
     "text": [
      "Hola Mundo\n"
     ]
    }
   ],
   "source": [
    "from deep_translator import GoogleTranslator\n",
    "\n",
    "# Traduce un texto en inglés al español\n",
    "translated_text = GoogleTranslator(source='auto', target='spanish').translate(\"Hello World\")\n",
    "\n",
    "print(translated_text)"
   ]
  },
  {
   "cell_type": "code",
   "execution_count": 172,
   "metadata": {},
   "outputs": [],
   "source": [
    "# Working\n",
    "#repo_id = 'tiiuae/falcon-7b'\n",
    "repo_id = 'bigscience/bloom'\n"
   ]
  },
  {
   "cell_type": "code",
   "execution_count": 173,
   "metadata": {},
   "outputs": [],
   "source": [
    "llm = HuggingFaceHub(huggingfacehub_api_token = HUGGING_FACE,repo_id=repo_id, model_kwargs = {'temperature': 0.5, \"max_length\":250})"
   ]
  },
  {
   "cell_type": "code",
   "execution_count": 174,
   "metadata": {},
   "outputs": [],
   "source": [
    "template = \"\"\"\n",
    "From the following conversation, what do you think of the situation?\n",
    "\\n\n",
    "{query}\n",
    "\\n\n",
    "\"\"\""
   ]
  },
  {
   "cell_type": "code",
   "execution_count": 175,
   "metadata": {},
   "outputs": [],
   "source": [
    "prompt = PromptTemplate(input_variables=[\"query\"], template=template)\n",
    "\n",
    "chain = LLMChain(llm=llm, prompt=prompt, output_key=\"story\")"
   ]
  },
  {
   "cell_type": "code",
   "execution_count": 176,
   "metadata": {},
   "outputs": [],
   "source": [
    "# Query Spanish\n",
    "spanishquery = \"Hola, que podemos hacer hoy?\""
   ]
  },
  {
   "cell_type": "code",
   "execution_count": 177,
   "metadata": {},
   "outputs": [],
   "source": [
    "# Query English\n",
    "query = GoogleTranslator(source='auto', target='english').translate(spanishquery)"
   ]
  },
  {
   "cell_type": "code",
   "execution_count": 178,
   "metadata": {},
   "outputs": [
    {
     "name": "stdout",
     "output_type": "stream",
     "text": [
      "I want to go to the mountains.\n",
      "I'll go with you.\n",
      "I'll go with you.\n",
      "I'll go\n"
     ]
    }
   ],
   "source": [
    "# Generate response\n",
    "response = chain({\"query\":query})\n",
    "print(response[\"story\"])"
   ]
  },
  {
   "cell_type": "code",
   "execution_count": 179,
   "metadata": {},
   "outputs": [
    {
     "name": "stdout",
     "output_type": "stream",
     "text": [
      "Quiero ir a las montañas.\n",
      "Iré contigo.\n",
      "Iré contigo.\n",
      "Iré\n"
     ]
    }
   ],
   "source": [
    "# Traduce un texto en inglés al español\n",
    "translated_text = GoogleTranslator(source='auto', target='spanish').translate(response[\"story\"])\n",
    "\n",
    "print(translated_text)"
   ]
  }
 ],
 "metadata": {
  "kernelspec": {
   "display_name": "LocalLLM",
   "language": "python",
   "name": "python3"
  },
  "language_info": {
   "codemirror_mode": {
    "name": "ipython",
    "version": 3
   },
   "file_extension": ".py",
   "mimetype": "text/x-python",
   "name": "python",
   "nbconvert_exporter": "python",
   "pygments_lexer": "ipython3",
   "version": "3.11.5"
  }
 },
 "nbformat": 4,
 "nbformat_minor": 2
}
