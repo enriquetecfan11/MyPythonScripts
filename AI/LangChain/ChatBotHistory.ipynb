{
 "cells": [
  {
   "cell_type": "code",
   "execution_count": 47,
   "metadata": {},
   "outputs": [],
   "source": [
    "import os\n",
    "from langchain.chains import ConversationChain\n",
    "from langchain import HuggingFaceHub\n",
    "\n",
    "from dotenv import load_dotenv\n",
    "load_dotenv()\n",
    "HUGGING_FACE = os.getenv('HUGGING_FACE_HUB_API_KEY')"
   ]
  },
  {
   "cell_type": "code",
   "execution_count": 48,
   "metadata": {},
   "outputs": [],
   "source": [
    "#repo_id = 'tiiuae/falcon-7b'\n",
    "repo_id = 'declare-lab/flan-alpaca-gpt4-xl'\n",
    "#repo_id = 'declare-lab/flan-alpaca-large'\n",
    "#repo_id = 'databricks/dolly-v2-3b'\n",
    "#repo_id = 'declare-lab/flan-alpaca-large'\n",
    "llm = HuggingFaceHub(huggingfacehub_api_token = HUGGING_FACE,repo_id=repo_id, model_kwargs = {'temperature': 1e-10, \"max_length\":32})"
   ]
  },
  {
   "cell_type": "code",
   "execution_count": 49,
   "metadata": {},
   "outputs": [],
   "source": [
    "template_with_memory = \"\"\"Eres un chatbot servicial. Respondes a las preguntas \n",
    "después de pensarlo un poco y sólo proporciona respuestas relevantes.\n",
    "Las respuestas que siempre me das son en español de españa.\n",
    "Conversación anterior:\n",
    "{chat_history}\n",
    "Nueva pregunta humana: {pregunta}\n",
    "Respuesta:\n",
    "\n",
    "\"\"\""
   ]
  },
  {
   "cell_type": "code",
   "execution_count": 50,
   "metadata": {},
   "outputs": [
    {
     "name": "stdout",
     "output_type": "stream",
     "text": [
      "\n",
      "\n",
      "\u001b[1m> Entering new ConversationChain chain...\u001b[0m\n",
      "Prompt after formatting:\n",
      "\u001b[32;1m\u001b[1;3mThe following is a friendly conversation between a human and an AI. The AI is talkative and provides lots of specific details from its context. If the AI does not know the answer to a question, it truthfully says it does not know.\n",
      "\n",
      "Current conversation:\n",
      "\n",
      "Human: Hola, que puedes hacer\n",
      "AI:\u001b[0m\n"
     ]
    }
   ],
   "source": [
    "repo_id=model_id,model_kwargs={\"temperature\":0.8, \"max_length\":128}\n",
    "\n",
    "conv_chain_with_memory = ConversationChain(llm=llm, verbose=True)\n",
    "\n",
    "pregunta = input(\"Pregunta:\")\n",
    "print(conv_chain_with_memory.predict(input=pregunta))\n"
   ]
  },
  {
   "cell_type": "code",
   "execution_count": null,
   "metadata": {},
   "outputs": [
    {
     "data": {
      "text/plain": [
       "'AI: Hi, my name is John. What do you call me?'"
      ]
     },
     "execution_count": 44,
     "metadata": {},
     "output_type": "execute_result"
    }
   ],
   "source": [
    "from langchain.chains.conversation.memory import ConversationBufferMemory\n",
    "\n",
    "memory = ConversationBufferMemory()\n",
    "conversation_buf = ConversationChain(llm=llm, memory=memory)\n",
    "conversation_buf.predict(input=\"Hola, mi nombre es Juan. ¿Cómo te llamas?\")\n",
    "conversation_buf.predict(input=\"Hola, mi nombre es Pepe. ¿Cómo te llamas?\")"
   ]
  }
 ],
 "metadata": {
  "kernelspec": {
   "display_name": "LocalLLM",
   "language": "python",
   "name": "python3"
  },
  "language_info": {
   "codemirror_mode": {
    "name": "ipython",
    "version": 3
   },
   "file_extension": ".py",
   "mimetype": "text/x-python",
   "name": "python",
   "nbconvert_exporter": "python",
   "pygments_lexer": "ipython3",
   "version": "3.11.5"
  }
 },
 "nbformat": 4,
 "nbformat_minor": 2
}
