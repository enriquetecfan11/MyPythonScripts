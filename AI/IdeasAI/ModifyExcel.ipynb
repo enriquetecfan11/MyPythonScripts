{
 "cells": [
  {
   "cell_type": "code",
   "execution_count": null,
   "metadata": {},
   "outputs": [],
   "source": [
    "from bs4 import BeautifulSoup\n",
    "import requests\n",
    "import pandas as pd\n",
    "from requests.exceptions import ChunkedEncodingError\n",
    "import re\n",
    "import os\n",
    "from deep_translator import GoogleTranslator\n",
    "import glob"
   ]
  },
  {
   "cell_type": "code",
   "execution_count": null,
   "metadata": {},
   "outputs": [],
   "source": [
    "# Cargar el archivo CSV en un DataFrame\n",
    "df = pd.read_csv('ideas.csv')\n",
    "\n",
    "# Limpiar la columna 'Idea' usando expresiones regulares\n",
    "df['Tag'] = df['Tag'].apply(lambda x: re.sub(r'\\s+', ' ', x).strip())\n",
    "\n",
    "# Guardar el DataFrame modificado en un nuevo archivo CSV\n",
    "df.to_csv('ideas_limpias.csv', index=False)"
   ]
  },
  {
   "cell_type": "code",
   "execution_count": null,
   "metadata": {},
   "outputs": [],
   "source": [
    "# Cargar el archivo CSV modificado en un DataFrame\n",
    "df_modificado = pd.read_csv('ideas_limpias.csv')\n",
    "\n",
    "# Imprimir el DataFrame\n",
    "df_modificado.head()\n",
    "\n",
    "# Contar el número de filas y columnas del DataFrame\n",
    "print(df_modificado.shape)"
   ]
  },
  {
   "cell_type": "code",
   "execution_count": null,
   "metadata": {},
   "outputs": [],
   "source": [
    "# # Load the modified CSV file into a DataFrame\n",
    "# df = pd.read_csv('ideas_limpias.csv')\n",
    "\n",
    "# # Translate the 'Idea' column from English to Spanish using GoogleTranslator\n",
    "# df['ideas'] = df['Idea'].apply(lambda x: GoogleTranslator(source='en', target='es').translate(x))\n",
    "\n",
    "# # Drop the original 'Idea' column\n",
    "# df.drop('Idea', axis=1, inplace=True)\n",
    "\n",
    "# # Save the translated DataFrame to a new CSV file\n",
    "# df.to_csv('ideas_traducidas.csv', index=False)\n",
    "\n",
    "# # Load the translated CSV file into a DataFrame\n",
    "# df.head()"
   ]
  }
 ],
 "metadata": {
  "kernelspec": {
   "display_name": "base",
   "language": "python",
   "name": "python3"
  },
  "language_info": {
   "codemirror_mode": {
    "name": "ipython",
    "version": 3
   },
   "file_extension": ".py",
   "mimetype": "text/x-python",
   "name": "python",
   "nbconvert_exporter": "python",
   "pygments_lexer": "ipython3",
   "version": "3.11.3"
  }
 },
 "nbformat": 4,
 "nbformat_minor": 2
}
