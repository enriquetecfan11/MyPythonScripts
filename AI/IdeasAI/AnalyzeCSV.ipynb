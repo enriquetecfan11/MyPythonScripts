{
 "cells": [
  {
   "cell_type": "code",
   "execution_count": 25,
   "metadata": {},
   "outputs": [],
   "source": [
    "from bs4 import BeautifulSoup\n",
    "import requests\n",
    "import pandas as pd\n",
    "from requests.exceptions import ChunkedEncodingError\n",
    "import re\n",
    "import os\n",
    "from deep_translator import GoogleTranslator\n",
    "import glob\n",
    "import nltk\n",
    "from nltk import FreqDist, word_tokenize\n",
    "from nltk.corpus import stopwords\n",
    "import seaborn as sns\n",
    "import matplotlib.pyplot as plt"
   ]
  },
  {
   "cell_type": "code",
   "execution_count": 26,
   "metadata": {},
   "outputs": [
    {
     "name": "stdout",
     "output_type": "stream",
     "text": [
      "C:\\Users\\erodr\\Documents\\GithubProjects\\MyPythonScripts\\AI\\IdeasAI\\csv-export\n",
      "Already in csv-export directory\n",
      "combined_csv.csv does not exist\n"
     ]
    }
   ],
   "source": [
    "# Mirar en que directorio estamos\n",
    "print(os.getcwd())\n",
    "\n",
    "# Si no estamos en csv-export entrar al directorio\n",
    "if os.getcwd() != r'C:\\Users\\erodr\\Documents\\GithubProjects\\MyPythonScripts\\AI\\IdeasAI\\csv-export':\n",
    "    os.chdir(r'C:\\Users\\erodr\\Documents\\GithubProjects\\MyPythonScripts\\AI\\IdeasAI\\csv-export')\n",
    "    print('Changed directory to csv-export')\n",
    "else:\n",
    "    print('Already in csv-export directory')\n",
    "\n",
    "# if exist remove combined_csv.csv and combined_csv_modified.csv and combined_csv_modified_final.csv\n",
    "if os.path.exists('combined_csv.csv'):\n",
    "    os.remove('combined_csv.csv')\n",
    "    print('combined_csv.csv removed')\n",
    "if os.path.exists('combined_csv_modified.csv'):\n",
    "    os.remove('combined_csv_modified.csv')\n",
    "    print('combined_csv.csv removed')\n",
    "if os.path.exists('combined_csv_modified_final.csv'):\n",
    "    os.remove('combined_csv_modified_final.csv')\n",
    "    print('combined_csv.csv removed')\n",
    "else:\n",
    "    print('combined_csv.csv does not exist')"
   ]
  },
  {
   "cell_type": "code",
   "execution_count": 27,
   "metadata": {},
   "outputs": [
    {
     "name": "stdout",
     "output_type": "stream",
     "text": [
      "C:\\Users\\erodr\\Documents\\GithubProjects\\MyPythonScripts\\AI\\IdeasAI\\csv-export\n"
     ]
    }
   ],
   "source": [
    "# Mirar en que directorio estamos\n",
    "print(os.getcwd())"
   ]
  },
  {
   "cell_type": "code",
   "execution_count": 28,
   "metadata": {},
   "outputs": [
    {
     "name": "stdout",
     "output_type": "stream",
     "text": [
      "CSVs combinados\n"
     ]
    }
   ],
   "source": [
    "# Junta todos los csv en uno solo\n",
    "extension = 'csv'\n",
    "all_filenames = [i for i in glob.glob('*.{}'.format(extension))]\n",
    "combined_csv = pd.concat([pd.read_csv(f) for f in all_filenames ])\n",
    "combined_csv.to_csv( \"combined_csv.csv\", index=False, encoding='utf-8-sig')\n",
    "print(\"CSVs combinados\")"
   ]
  },
  {
   "cell_type": "code",
   "execution_count": 29,
   "metadata": {},
   "outputs": [
    {
     "name": "stdout",
     "output_type": "stream",
     "text": [
      "                Tag                                               Idea  \\\n",
      "0  3d Startup Ideas  A tool for managing supply chains, designed to...   \n",
      "1  3d Startup Ideas  An online marketplace for tutors for students ...   \n",
      "2  3d Startup Ideas  A home energy management system that maintains...   \n",
      "3  3d Startup Ideas  A company that will work with companies in the...   \n",
      "4  3d Startup Ideas  A web-based system for managing and tracking t...   \n",
      "\n",
      "                                      Palabras clave Palabra clave 1  \\\n",
      "0  ['tool', 'managing', 'supply', 'chains', 'desi...             NaN   \n",
      "1  ['online', 'marketplace', 'tutors', 'students'...             NaN   \n",
      "2  ['energy', 'home', 'management', 'system', 'ma...             NaN   \n",
      "3  ['customers', 'company', 'work', 'companies', ...             NaN   \n",
      "4  ['system', 'managing', 'tracking', 'expenses',...             NaN   \n",
      "\n",
      "  Palabra clave 2 Palabra clave 3 Palabra clave 4 Palabra clave 5  \n",
      "0             NaN             NaN             NaN             NaN  \n",
      "1             NaN             NaN             NaN             NaN  \n",
      "2             NaN             NaN             NaN             NaN  \n",
      "3             NaN             NaN             NaN             NaN  \n",
      "4             NaN             NaN             NaN             NaN  \n"
     ]
    },
    {
     "name": "stderr",
     "output_type": "stream",
     "text": [
      "C:\\Users\\erodr\\AppData\\Local\\Temp\\ipykernel_11848\\1851424356.py:2: DtypeWarning: Columns (3,4,5,6,7) have mixed types. Specify dtype option on import or set low_memory=False.\n",
      "  df = pd.read_csv(\"combined_csv.csv\")\n"
     ]
    }
   ],
   "source": [
    "# Lee el csv\n",
    "df = pd.read_csv(\"combined_csv.csv\")\n",
    "print(df.head())"
   ]
  },
  {
   "cell_type": "code",
   "execution_count": 30,
   "metadata": {},
   "outputs": [
    {
     "name": "stdout",
     "output_type": "stream",
     "text": [
      "Total words:  4786462\n"
     ]
    }
   ],
   "source": [
    "# Calcular cuantas palabras hay en total\n",
    "total_words = 0\n",
    "for index, row in combined_csv.iterrows():\n",
    "    total_words += len(row['Palabras clave'].split())\n",
    "\n",
    "print('Total words: ', total_words)"
   ]
  },
  {
   "cell_type": "code",
   "execution_count": 31,
   "metadata": {},
   "outputs": [
    {
     "name": "stdout",
     "output_type": "stream",
     "text": [
      "C:\\Users\\erodr\\Documents\\GithubProjects\\MyPythonScripts\\AI\\IdeasAI\\csv-export\n"
     ]
    }
   ],
   "source": [
    "print(os.getcwd())"
   ]
  },
  {
   "cell_type": "code",
   "execution_count": 32,
   "metadata": {},
   "outputs": [
    {
     "name": "stderr",
     "output_type": "stream",
     "text": [
      "C:\\Users\\erodr\\AppData\\Local\\Temp\\ipykernel_11848\\1921510070.py:2: DtypeWarning: Columns (3,4,5,6,7) have mixed types. Specify dtype option on import or set low_memory=False.\n",
      "  df = pd.read_csv('combined_csv.csv')\n",
      "C:\\Users\\erodr\\AppData\\Local\\Temp\\ipykernel_11848\\1921510070.py:5: FutureWarning: The default value of regex will change from True to False in a future version. In addition, single character regular expressions will *not* be treated as literal strings when regex=True.\n",
      "  df['Palabras clave'] = df['Palabras clave'].str.replace('[', '')\n",
      "C:\\Users\\erodr\\AppData\\Local\\Temp\\ipykernel_11848\\1921510070.py:6: FutureWarning: The default value of regex will change from True to False in a future version. In addition, single character regular expressions will *not* be treated as literal strings when regex=True.\n",
      "  df['Palabras clave'] = df['Palabras clave'].str.replace(']', '')\n"
     ]
    },
    {
     "name": "stdout",
     "output_type": "stream",
     "text": [
      "Total de palabras clave:  3454070\n",
      "Archivo CSV creado\n"
     ]
    }
   ],
   "source": [
    "# Abrir archivo\n",
    "df = pd.read_csv('combined_csv.csv')\n",
    "\n",
    "# Quitar [ y ] de la columna de los palabra clave\n",
    "df['Palabras clave'] = df['Palabras clave'].str.replace('[', '')\n",
    "df['Palabras clave'] = df['Palabras clave'].str.replace(']', '')\n",
    "\n",
    "# Quitar \"'\" de la columna de los palabra clave\n",
    "df['Palabras clave'] = df['Palabras clave'].str.replace(\"'\", '')\n",
    "\n",
    "# Separar las palabras clave por comas en varias columnas\n",
    "df[['Palabra clave 1', 'Palabra clave 2', 'Palabra clave 3', 'Palabra clave 4', 'Palabra clave 5']] = df['Palabras clave'].str.split(',', expand=True)\n",
    "\n",
    "# Eliminar la columna de las palabras clave\n",
    "df.drop('Palabras clave', axis=1, inplace=True)\n",
    "\n",
    "print(\"Total de palabras clave: \", len(df['Palabra clave 1']) + len(df['Palabra clave 2']) + len(df['Palabra clave 3']) + len(df['Palabra clave 4']) + len(df['Palabra clave 5']))\n",
    "\n",
    "# Sobre escribir el archivo\n",
    "df.to_csv('combined_csv_modified.csv', index=False)\n",
    "\n",
    "\n",
    "print('Archivo CSV creado')"
   ]
  },
  {
   "cell_type": "code",
   "execution_count": 33,
   "metadata": {},
   "outputs": [
    {
     "data": {
      "text/html": [
       "<div>\n",
       "<style scoped>\n",
       "    .dataframe tbody tr th:only-of-type {\n",
       "        vertical-align: middle;\n",
       "    }\n",
       "\n",
       "    .dataframe tbody tr th {\n",
       "        vertical-align: top;\n",
       "    }\n",
       "\n",
       "    .dataframe thead th {\n",
       "        text-align: right;\n",
       "    }\n",
       "</style>\n",
       "<table border=\"1\" class=\"dataframe\">\n",
       "  <thead>\n",
       "    <tr style=\"text-align: right;\">\n",
       "      <th></th>\n",
       "      <th>Tag</th>\n",
       "      <th>Idea</th>\n",
       "      <th>Palabra clave 1</th>\n",
       "      <th>Palabra clave 2</th>\n",
       "      <th>Palabra clave 3</th>\n",
       "      <th>Palabra clave 4</th>\n",
       "      <th>Palabra clave 5</th>\n",
       "    </tr>\n",
       "  </thead>\n",
       "  <tbody>\n",
       "    <tr>\n",
       "      <th>0</th>\n",
       "      <td>3d Startup Ideas</td>\n",
       "      <td>A tool for managing supply chains, designed to...</td>\n",
       "      <td>tool</td>\n",
       "      <td>managing</td>\n",
       "      <td>supply</td>\n",
       "      <td>chains</td>\n",
       "      <td>designed</td>\n",
       "    </tr>\n",
       "    <tr>\n",
       "      <th>1</th>\n",
       "      <td>3d Startup Ideas</td>\n",
       "      <td>An online marketplace for tutors for students ...</td>\n",
       "      <td>online</td>\n",
       "      <td>marketplace</td>\n",
       "      <td>tutors</td>\n",
       "      <td>students</td>\n",
       "      <td>subjects</td>\n",
       "    </tr>\n",
       "    <tr>\n",
       "      <th>2</th>\n",
       "      <td>3d Startup Ideas</td>\n",
       "      <td>A home energy management system that maintains...</td>\n",
       "      <td>energy</td>\n",
       "      <td>home</td>\n",
       "      <td>management</td>\n",
       "      <td>system</td>\n",
       "      <td>maintains</td>\n",
       "    </tr>\n",
       "    <tr>\n",
       "      <th>3</th>\n",
       "      <td>3d Startup Ideas</td>\n",
       "      <td>A company that will work with companies in the...</td>\n",
       "      <td>customers</td>\n",
       "      <td>company</td>\n",
       "      <td>work</td>\n",
       "      <td>companies</td>\n",
       "      <td>travel</td>\n",
       "    </tr>\n",
       "    <tr>\n",
       "      <th>4</th>\n",
       "      <td>3d Startup Ideas</td>\n",
       "      <td>A web-based system for managing and tracking t...</td>\n",
       "      <td>system</td>\n",
       "      <td>managing</td>\n",
       "      <td>tracking</td>\n",
       "      <td>expenses</td>\n",
       "      <td>whole</td>\n",
       "    </tr>\n",
       "  </tbody>\n",
       "</table>\n",
       "</div>"
      ],
      "text/plain": [
       "                Tag                                               Idea  \\\n",
       "0  3d Startup Ideas  A tool for managing supply chains, designed to...   \n",
       "1  3d Startup Ideas  An online marketplace for tutors for students ...   \n",
       "2  3d Startup Ideas  A home energy management system that maintains...   \n",
       "3  3d Startup Ideas  A company that will work with companies in the...   \n",
       "4  3d Startup Ideas  A web-based system for managing and tracking t...   \n",
       "\n",
       "  Palabra clave 1 Palabra clave 2 Palabra clave 3 Palabra clave 4  \\\n",
       "0            tool        managing          supply          chains   \n",
       "1          online     marketplace          tutors        students   \n",
       "2          energy            home      management          system   \n",
       "3       customers         company            work       companies   \n",
       "4          system        managing        tracking        expenses   \n",
       "\n",
       "  Palabra clave 5  \n",
       "0        designed  \n",
       "1        subjects  \n",
       "2       maintains  \n",
       "3          travel  \n",
       "4           whole  "
      ]
     },
     "execution_count": 33,
     "metadata": {},
     "output_type": "execute_result"
    }
   ],
   "source": [
    "# Abrir archivo\n",
    "df = pd.read_csv('combined_csv_modified.csv')\n",
    "\n",
    "df.head()"
   ]
  },
  {
   "cell_type": "code",
   "execution_count": 34,
   "metadata": {},
   "outputs": [
    {
     "name": "stdout",
     "output_type": "stream",
     "text": [
      "Total rows:  690814\n",
      "Archivo CSV creado\n"
     ]
    }
   ],
   "source": [
    "# Abrir archivo\n",
    "df = pd.read_csv('combined_csv_modified.csv')\n",
    "\n",
    "# Combinar todas las columnas en una sola lista y eliminar duplicados para cada fila\n",
    "df['Palabras clave'] = df.apply(lambda row: list(set(row[['Palabra clave 1', 'Palabra clave 2', 'Palabra clave 3', 'Palabra clave 4', 'Palabra clave 5']].dropna())), axis=1)\n",
    "\n",
    "# Mostrar el total de filas en el DataFrame\n",
    "print('Total rows: ', df.shape[0])\n",
    "\n",
    "# Guardar en un archivo\n",
    "df.to_csv('combined_csv_final.csv', index=False)\n",
    "\n",
    "print('Archivo CSV creado')\n"
   ]
  },
  {
   "cell_type": "code",
   "execution_count": 35,
   "metadata": {},
   "outputs": [
    {
     "name": "stderr",
     "output_type": "stream",
     "text": [
      "C:\\Users\\erodr\\AppData\\Local\\Temp\\ipykernel_11848\\1496228262.py:5: FutureWarning: The default value of regex will change from True to False in a future version. In addition, single character regular expressions will *not* be treated as literal strings when regex=True.\n",
      "  df['Palabras clave'] = df['Palabras clave'].str.replace('[', '')\n",
      "C:\\Users\\erodr\\AppData\\Local\\Temp\\ipykernel_11848\\1496228262.py:6: FutureWarning: The default value of regex will change from True to False in a future version. In addition, single character regular expressions will *not* be treated as literal strings when regex=True.\n",
      "  df['Palabras clave'] = df['Palabras clave'].str.replace(']', '')\n"
     ]
    },
    {
     "name": "stdout",
     "output_type": "stream",
     "text": [
      "Archivo CSV creado\n"
     ]
    }
   ],
   "source": [
    "# Abrir archivo\n",
    "df = pd.read_csv('combined_csv_final.csv')\n",
    "\n",
    "# Quitar [ y ] de la columna de los palabra clave\n",
    "df['Palabras clave'] = df['Palabras clave'].str.replace('[', '')\n",
    "df['Palabras clave'] = df['Palabras clave'].str.replace(']', '')\n",
    "\n",
    "# Quitar \"'\" de la columna de los palabra clave\n",
    "df['Palabras clave'] = df['Palabras clave'].str.replace(\"'\", '')\n",
    "\n",
    "# Separar las palabras clave por comas en varias columnas\n",
    "df[['Palabra clave 1', 'Palabra clave 2', 'Palabra clave 3', 'Palabra clave 4', 'Palabra clave 5']] = df['Palabras clave'].str.split(',', expand=True)\n",
    "\n",
    "# Eliminar la columna de las palabras clave\n",
    "df.drop('Palabras clave', axis=1, inplace=True)\n",
    "\n",
    "# Sobre escribir el archivo\n",
    "df.to_csv('combined_csv.csv', index=False)\n",
    "\n",
    "print('Archivo CSV creado')\n"
   ]
  },
  {
   "cell_type": "code",
   "execution_count": 36,
   "metadata": {},
   "outputs": [
    {
     "data": {
      "text/html": [
       "<div>\n",
       "<style scoped>\n",
       "    .dataframe tbody tr th:only-of-type {\n",
       "        vertical-align: middle;\n",
       "    }\n",
       "\n",
       "    .dataframe tbody tr th {\n",
       "        vertical-align: top;\n",
       "    }\n",
       "\n",
       "    .dataframe thead th {\n",
       "        text-align: right;\n",
       "    }\n",
       "</style>\n",
       "<table border=\"1\" class=\"dataframe\">\n",
       "  <thead>\n",
       "    <tr style=\"text-align: right;\">\n",
       "      <th></th>\n",
       "      <th>Tag</th>\n",
       "      <th>Idea</th>\n",
       "      <th>Palabra clave 1</th>\n",
       "      <th>Palabra clave 2</th>\n",
       "      <th>Palabra clave 3</th>\n",
       "      <th>Palabra clave 4</th>\n",
       "      <th>Palabra clave 5</th>\n",
       "      <th>Palabras clave</th>\n",
       "    </tr>\n",
       "  </thead>\n",
       "  <tbody>\n",
       "    <tr>\n",
       "      <th>0</th>\n",
       "      <td>3d Startup Ideas</td>\n",
       "      <td>A tool for managing supply chains, designed to...</td>\n",
       "      <td>tool</td>\n",
       "      <td>managing</td>\n",
       "      <td>supply</td>\n",
       "      <td>chains</td>\n",
       "      <td>designed</td>\n",
       "      <td>[' designed', ' managing', ' chains', 'tool', ...</td>\n",
       "    </tr>\n",
       "    <tr>\n",
       "      <th>1</th>\n",
       "      <td>3d Startup Ideas</td>\n",
       "      <td>An online marketplace for tutors for students ...</td>\n",
       "      <td>online</td>\n",
       "      <td>marketplace</td>\n",
       "      <td>tutors</td>\n",
       "      <td>students</td>\n",
       "      <td>subjects</td>\n",
       "      <td>[' tutors', ' marketplace', 'online', ' subjec...</td>\n",
       "    </tr>\n",
       "    <tr>\n",
       "      <th>2</th>\n",
       "      <td>3d Startup Ideas</td>\n",
       "      <td>A home energy management system that maintains...</td>\n",
       "      <td>energy</td>\n",
       "      <td>home</td>\n",
       "      <td>management</td>\n",
       "      <td>system</td>\n",
       "      <td>maintains</td>\n",
       "      <td>[' system', 'energy', ' home', ' management', ...</td>\n",
       "    </tr>\n",
       "    <tr>\n",
       "      <th>3</th>\n",
       "      <td>3d Startup Ideas</td>\n",
       "      <td>A company that will work with companies in the...</td>\n",
       "      <td>customers</td>\n",
       "      <td>company</td>\n",
       "      <td>work</td>\n",
       "      <td>companies</td>\n",
       "      <td>travel</td>\n",
       "      <td>[' company', ' work', ' companies', ' travel',...</td>\n",
       "    </tr>\n",
       "    <tr>\n",
       "      <th>4</th>\n",
       "      <td>3d Startup Ideas</td>\n",
       "      <td>A web-based system for managing and tracking t...</td>\n",
       "      <td>system</td>\n",
       "      <td>managing</td>\n",
       "      <td>tracking</td>\n",
       "      <td>expenses</td>\n",
       "      <td>whole</td>\n",
       "      <td>[' managing', 'system', ' tracking', ' whole',...</td>\n",
       "    </tr>\n",
       "  </tbody>\n",
       "</table>\n",
       "</div>"
      ],
      "text/plain": [
       "                Tag                                               Idea  \\\n",
       "0  3d Startup Ideas  A tool for managing supply chains, designed to...   \n",
       "1  3d Startup Ideas  An online marketplace for tutors for students ...   \n",
       "2  3d Startup Ideas  A home energy management system that maintains...   \n",
       "3  3d Startup Ideas  A company that will work with companies in the...   \n",
       "4  3d Startup Ideas  A web-based system for managing and tracking t...   \n",
       "\n",
       "  Palabra clave 1 Palabra clave 2 Palabra clave 3 Palabra clave 4  \\\n",
       "0            tool        managing          supply          chains   \n",
       "1          online     marketplace          tutors        students   \n",
       "2          energy            home      management          system   \n",
       "3       customers         company            work       companies   \n",
       "4          system        managing        tracking        expenses   \n",
       "\n",
       "  Palabra clave 5                                     Palabras clave  \n",
       "0        designed  [' designed', ' managing', ' chains', 'tool', ...  \n",
       "1        subjects  [' tutors', ' marketplace', 'online', ' subjec...  \n",
       "2       maintains  [' system', 'energy', ' home', ' management', ...  \n",
       "3          travel  [' company', ' work', ' companies', ' travel',...  \n",
       "4           whole  [' managing', 'system', ' tracking', ' whole',...  "
      ]
     },
     "execution_count": 36,
     "metadata": {},
     "output_type": "execute_result"
    }
   ],
   "source": [
    "# Abrir archivo\n",
    "df = pd.read_csv('combined_csv_final.csv')\n",
    "\n",
    "# Combine all the columns into a single list\n",
    "keywords = df[['Palabra clave 1', 'Palabra clave 2', 'Palabra clave 3', 'Palabra clave 4', 'Palabra clave 5']].values.flatten().tolist()\n",
    "\n",
    "# Remove the None values from the list\n",
    "keywords = [word for word in keywords if str(word) != 'nan']\n",
    "\n",
    "# Ver csv\n",
    "df.head()\n",
    "\n"
   ]
  },
  {
   "cell_type": "code",
   "execution_count": 37,
   "metadata": {},
   "outputs": [
    {
     "data": {
      "image/png": "[encoded data removed]",
      "text/plain": [
       "<Figure size 640x480 with 1 Axes>"
      ]
     },
     "metadata": {},
     "output_type": "display_data"
    },
    {
     "data": {
      "text/plain": [
       "<Axes: xlabel='Samples', ylabel='Counts'>"
      ]
     },
     "execution_count": 37,
     "metadata": {},
     "output_type": "execute_result"
    }
   ],
   "source": [
    "# Get the frequency distribution of the keywords are in column 'palabras clave'\n",
    "fdist = FreqDist(keywords)\n",
    "\n",
    "# Get the 10 most used keywords\n",
    "most_used_keywords = fdist.most_common(10)\n",
    "\n",
    "# Get the 10 least used keywords\n",
    "least_used_keywords = fdist.most_common()[-10:]\n",
    "\n",
    "# Plot the least used keywords\n",
    "fdist.plot(10, cumulative=False)\n"
   ]
  },
  {
   "cell_type": "code",
   "execution_count": 38,
   "metadata": {},
   "outputs": [
    {
     "name": "stdout",
     "output_type": "stream",
     "text": [
      "Total rows:  690814\n",
      "Rows containing the keywords:  77375\n"
     ]
    }
   ],
   "source": [
    "def search_keywords(keywords):\n",
    "    # Abrir archivo\n",
    "    df = pd.read_csv('combined_csv_final.csv')\n",
    "\n",
    "    # Combine all the columns into a single list\n",
    "    all_keywords = df[['Palabra clave 1', 'Palabra clave 2', 'Palabra clave 3', 'Palabra clave 4', 'Palabra clave 5']].values.flatten().tolist()\n",
    "\n",
    "    # Remove the None values from the list\n",
    "    all_keywords = [word for word in all_keywords if str(word) != 'nan']\n",
    "\n",
    "    # Get the frequency distribution of the keywords\n",
    "    fdist = FreqDist(all_keywords)\n",
    "\n",
    "    # Get the rows that contain any of the keywords in any of the keyword columns\n",
    "    rows = df[df[['Palabra clave 1', 'Palabra clave 2', 'Palabra clave 3', 'Palabra clave 4', 'Palabra clave 5']].apply(lambda row: any(keyword in row.values for keyword in keywords), axis=1)]\n",
    "\n",
    "    return rows\n",
    "\n",
    "# Search for the keywords\n",
    "rows = search_keywords(['startup'])\n",
    "\n",
    "# Print total rows of the DataFrame\n",
    "print('Total rows: ', df.shape[0])\n",
    "\n",
    "# Print how many rows contain the keywords\n",
    "print('Rows containing the keywords: ', rows.shape[0])"
   ]
  },
  {
   "cell_type": "code",
   "execution_count": 39,
   "metadata": {},
   "outputs": [
    {
     "name": "stdout",
     "output_type": "stream",
     "text": [
      "    Palabra clave  Frecuencia\n",
      "0         startup       77375\n",
      "1           helps       16451\n",
      "2          people        5508\n",
      "3            keep        1645\n",
      "4           track        1653\n",
      "..            ...         ...\n",
      "531         built           1\n",
      "532       branded           1\n",
      "533     financial           1\n",
      "534       advisor           1\n",
      "535            uk           1\n",
      "\n",
      "[536 rows x 2 columns]\n"
     ]
    },
    {
     "data": {
      "image/png": "[encoded data removed]",
      "text/plain": [
       "<Figure size 640x480 with 1 Axes>"
      ]
     },
     "metadata": {},
     "output_type": "display_data"
    },
    {
     "data": {
      "text/plain": [
       "<Axes: xlabel='Samples', ylabel='Counts'>"
      ]
     },
     "execution_count": 39,
     "metadata": {},
     "output_type": "execute_result"
    }
   ],
   "source": [
    "# Get the frequency distribution of the keywords you searched for\n",
    "fdist = FreqDist(rows[['Palabra clave 1', 'Palabra clave 2', 'Palabra clave 3', 'Palabra clave 4', 'Palabra clave 5']].values.flatten().tolist())\n",
    "\n",
    "# Convertir la distribución de frecuencia a un DataFrame\n",
    "df_fdist = pd.DataFrame.from_dict(fdist, orient='index', columns=['Frecuencia']).reset_index()\n",
    "df_fdist.columns = ['Palabra clave', 'Frecuencia']\n",
    "\n",
    "#Imprimir el DataFrame\n",
    "print(df_fdist)\n",
    "\n",
    "# Plot the frequency distribution\n",
    "fdist.plot(10, cumulative=False)\n"
   ]
  }
 ],
 "metadata": {
  "kernelspec": {
   "display_name": "base",
   "language": "python",
   "name": "python3"
  },
  "language_info": {
   "codemirror_mode": {
    "name": "ipython",
    "version": 3
   },
   "file_extension": ".py",
   "mimetype": "text/x-python",
   "name": "python",
   "nbconvert_exporter": "python",
   "pygments_lexer": "ipython3",
   "version": "3.11.3"
  }
 },
 "nbformat": 4,
 "nbformat_minor": 2
}
