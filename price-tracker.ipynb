{
 "cells": [
  {
   "cell_type": "code",
   "execution_count": 229,
   "metadata": {},
   "outputs": [],
   "source": [
    "from selenium import webdriver\n",
    "from selenium.webdriver.common.keys import Keys\n",
    "from selenium.webdriver.support import expected_conditions as EC\n",
    "from selenium.webdriver.common.by import By\n",
    "from selenium.webdriver.support.wait import WebDriverWait\n",
    "from selenium.webdriver.chrome.options import Options\n",
    "\n",
    "import pandas as pd\n",
    "\n",
    "import time"
   ]
  },
  {
   "cell_type": "code",
   "execution_count": 230,
   "metadata": {},
   "outputs": [
    {
     "name": "stdout",
     "output_type": "stream",
     "text": [
      "Page title is: Amazon.com : raspberry pi\n",
      "Page Charged Successfully\n"
     ]
    }
   ],
   "source": [
    "# Chrome Options\n",
    "chrome_options = Options()\n",
    "\n",
    "# chrome_options.add_argument(\"--headless\")\n",
    "\n",
    "driver = webdriver.Chrome(options=chrome_options)\n",
    "\n",
    "#Minimmize the browser\n",
    "# driver.minimize_window()\n",
    "\n",
    "#Remove cookies\n",
    "driver.delete_all_cookies()\n",
    "\n",
    "url = \"https://www.amazon.com/s?k=raspberry+pi&language=es_ES&currency=EUR\"\n",
    "\n",
    "driver.get(url)\n",
    "\n",
    "# Wait for the page to load\n",
    "time.sleep(2)\n",
    "\n",
    "print(\"Page title is: \" + driver.title)\n",
    "print(\"Page Charged Successfully\")\n"
   ]
  },
  {
   "cell_type": "code",
   "execution_count": 231,
   "metadata": {},
   "outputs": [],
   "source": [
    "# When the page is loaded scroll down to the bottom slowly\n",
    "driver.execute_script(\"window.scrollTo(0, document.body.scrollHeight);\")"
   ]
  },
  {
   "cell_type": "code",
   "execution_count": 232,
   "metadata": {},
   "outputs": [],
   "source": [
    "def getProducts(name):\n",
    "    # Name of the products\n",
    "    products = driver.find_elements(By.XPATH, \"//span[@class='a-size-medium a-color-base a-text-normal']\")\n",
    "\n",
    "    # Ge the name of the products\n",
    "    names = []\n",
    "\n",
    "    for product in products:\n",
    "        names.append(product.text)\n",
    "    \n",
    "    # if(len(names) == 40):\n",
    "    #     break\n",
    "\n",
    "    # print(names)\n",
    "    #print(\"\\n\")\n",
    "    print(\"Tamaño de la lista: \", len(names))\n",
    "\n",
    "    # Price of the products\n",
    "    prices = driver.find_elements(By.XPATH, \"//span[@class='a-price-whole']\")\n",
    "\n",
    "    # Get the price of the products\n",
    "    prices_list = []\n",
    "\n",
    "    for price in prices:\n",
    "        prices_list.append(price.text)\n",
    "\n",
    "    # print(prices_list)\n",
    "    # print(\"\\n\")\n",
    "    print(\"Tamaño de la lista: \", len(prices_list))\n",
    "\n",
    "    # Create a dataframe with the information\n",
    "    # The dataframe will have id as index and the other columns as columns\n",
    "\n",
    "    df = pd.DataFrame(columns=[\"Name\", \"Price\", \"Link\"])\n",
    "\n",
    "    for i in range(len(names)):\n",
    "        df.loc[i] = [names[i], prices_products[i], links_products[i]]\n",
    "\n",
    "\n",
    "    # Remove the duplicates and null values\n",
    "    df = df.drop_duplicates()\n",
    "    df = df.dropna()\n",
    "\n",
    "    print(\"DF Shape: \" + str(df.shape))\n",
    "\n",
    "    df.to_csv(\"./amazon/\" + name + \".csv\", index=False)\n",
    "    df.to_json(\"./amazon/\" + name + \".json\", orient=\"records\")\n",
    "\n",
    "    print(name)\n",
    "    \n",
    "    print(\"SAVED CSV AND JSON SUCCESSFULLY\")\n",
    "\n"
   ]
  },
  {
   "cell_type": "code",
   "execution_count": 233,
   "metadata": {},
   "outputs": [
    {
     "name": "stdout",
     "output_type": "stream",
     "text": [
      "Tamaño de la lista:  22\n",
      "Tamaño de la lista:  26\n",
      "DF Shape: (22, 3)\n",
      "pagina1\n",
      "SAVED CSV AND JSON SUCCESSFULLY\n"
     ]
    }
   ],
   "source": [
    "getProducts(\"pagina_1\")\n",
    "\n",
    "\n",
    "time.sleep(2)"
   ]
  },
  {
   "cell_type": "code",
   "execution_count": 234,
   "metadata": {},
   "outputs": [],
   "source": [
    "# Click into <a href=\"/-/es/s?k=raspberry+pi&amp;i=electronics&amp;rh=n%3A172282%2Cp_72%3A1248879011&amp;dc&amp;page=2&amp;language=es_ES&amp;currency=EUR&amp;qid=1660386649&amp;rnid=1248877011&amp;ref=sr_pg_2\" aria-label=\"Ir a la página 2\" class=\"s-pagination-item s-pagination-button\">2</a>\n",
    "driver.find_element(By.XPATH, \"//a[@aria-label='Ir a la página 2']\").click()\n",
    "\n",
    "time.sleep(2)"
   ]
  },
  {
   "cell_type": "code",
   "execution_count": 235,
   "metadata": {},
   "outputs": [
    {
     "name": "stdout",
     "output_type": "stream",
     "text": [
      "Tamaño de la lista:  22\n",
      "Tamaño de la lista:  27\n",
      "DF Shape: (22, 3)\n",
      "Raspberry Pi Pagina 2\n",
      "SAVED CSV AND JSON SUCCESSFULLY\n"
     ]
    }
   ],
   "source": [
    "getProducts(\"pagina_2\")\n",
    "\n",
    "time.sleep(2)\n"
   ]
  },
  {
   "cell_type": "code",
   "execution_count": 236,
   "metadata": {},
   "outputs": [],
   "source": [
    "\n",
    "\n",
    "# Close the browser\n",
    "driver.quit()"
   ]
  }
 ],
 "metadata": {
  "kernelspec": {
   "display_name": "Python 3.9.12 ('base')",
   "language": "python",
   "name": "python3"
  },
  "language_info": {
   "codemirror_mode": {
    "name": "ipython",
    "version": 3
   },
   "file_extension": ".py",
   "mimetype": "text/x-python",
   "name": "python",
   "nbconvert_exporter": "python",
   "pygments_lexer": "ipython3",
   "version": "3.9.12"
  },
  "orig_nbformat": 4,
  "vscode": {
   "interpreter": {
    "hash": "77c67c8aafc2b278b5462462fbf4cd0da3abe4419d1b63101a0468cf93fa7d37"
   }
  }
 },
 "nbformat": 4,
 "nbformat_minor": 2
}
