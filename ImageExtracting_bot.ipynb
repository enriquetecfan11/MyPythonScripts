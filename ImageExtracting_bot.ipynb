{
 "cells": [
  {
   "cell_type": "code",
   "execution_count": 1,
   "metadata": {},
   "outputs": [],
   "source": [
    "#imports here\n",
    "from selenium import webdriver\n",
    "from selenium.webdriver.common.keys import Keys\n",
    "from selenium.webdriver.support import expected_conditions as EC\n",
    "from selenium.webdriver.common.by import By\n",
    "from selenium.webdriver.support.wait import WebDriverWait\n",
    "import time\n",
    "\n",
    "from selenium.webdriver.chrome.options import Options\n"
   ]
  },
  {
   "cell_type": "code",
   "execution_count": 3,
   "metadata": {},
   "outputs": [
    {
     "name": "stdout",
     "output_type": "stream",
     "text": [
      "Number of scraped images:  61\n"
     ]
    },
    {
     "ename": "WebDriverException",
     "evalue": "Message: chrome not reachable\n  (Session info: chrome=104.0.5112.81)\nStacktrace:\nBacktrace:\n\tOrdinal0 [0x00586463+2188387]\n\tOrdinal0 [0x0051E461+1762401]\n\tOrdinal0 [0x00433C40+801856]\n\tOrdinal0 [0x00428932+756018]\n\tOrdinal0 [0x00429168+758120]\n\tOrdinal0 [0x0042AA22+764450]\n\tOrdinal0 [0x00424379+738169]\n\tOrdinal0 [0x004350D0+807120]\n\tOrdinal0 [0x0048C402+1164290]\n\tOrdinal0 [0x0047C5F6+1099254]\n\tOrdinal0 [0x00456BE0+945120]\n\tOrdinal0 [0x00457AD6+948950]\n\tGetHandleVerifier [0x008271F2+2712546]\n\tGetHandleVerifier [0x0081886D+2652765]\n\tGetHandleVerifier [0x0061002A+520730]\n\tGetHandleVerifier [0x0060EE06+516086]\n\tOrdinal0 [0x0052468B+1787531]\n\tOrdinal0 [0x00528E88+1805960]\n\tOrdinal0 [0x00528F75+1806197]\n\tOrdinal0 [0x00531DF1+1842673]\n\tBaseThreadInitThunk [0x764CFA29+25]\n\tRtlGetAppContainerNamedObjectPath [0x77A47A7E+286]\n\tRtlGetAppContainerNamedObjectPath [0x77A47A4E+238]\n",
     "output_type": "error",
     "traceback": [
      "\u001b[1;31m---------------------------------------------------------------------------\u001b[0m",
      "\u001b[1;31mWebDriverException\u001b[0m                        Traceback (most recent call last)",
      "\u001b[1;32mc:\\Users\\daryo\\Documents\\Kike\\python-googlesheets\\ImageExtracting_bot.ipynb Cell 2\u001b[0m in \u001b[0;36m<cell line: 71>\u001b[1;34m()\u001b[0m\n\u001b[0;32m     <a href='vscode-notebook-cell:/c%3A/Users/daryo/Documents/Kike/python-googlesheets/ImageExtracting_bot.ipynb#W3sZmlsZQ%3D%3D?line=69'>70</a>\u001b[0m \u001b[39m# Save te images in './img/instagram'\u001b[39;00m\n\u001b[0;32m     <a href='vscode-notebook-cell:/c%3A/Users/daryo/Documents/Kike/python-googlesheets/ImageExtracting_bot.ipynb#W3sZmlsZQ%3D%3D?line=70'>71</a>\u001b[0m \u001b[39mfor\u001b[39;00m i \u001b[39min\u001b[39;00m \u001b[39mrange\u001b[39m(\u001b[39mlen\u001b[39m(image_list)):\n\u001b[1;32m---> <a href='vscode-notebook-cell:/c%3A/Users/daryo/Documents/Kike/python-googlesheets/ImageExtracting_bot.ipynb#W3sZmlsZQ%3D%3D?line=71'>72</a>\u001b[0m     driver\u001b[39m.\u001b[39;49mget(image_list[i])\n\u001b[0;32m     <a href='vscode-notebook-cell:/c%3A/Users/daryo/Documents/Kike/python-googlesheets/ImageExtracting_bot.ipynb#W3sZmlsZQ%3D%3D?line=72'>73</a>\u001b[0m     driver\u001b[39m.\u001b[39msave_screenshot(\u001b[39m'\u001b[39m\u001b[39m./img/instagram/\u001b[39m\u001b[39m'\u001b[39m \u001b[39m+\u001b[39m \u001b[39mstr\u001b[39m(i) \u001b[39m+\u001b[39m \u001b[39m'\u001b[39m\u001b[39m.png\u001b[39m\u001b[39m'\u001b[39m)\n",
      "File \u001b[1;32mc:\\Users\\daryo\\anaconda3\\lib\\site-packages\\selenium\\webdriver\\remote\\webdriver.py:447\u001b[0m, in \u001b[0;36mWebDriver.get\u001b[1;34m(self, url)\u001b[0m\n\u001b[0;32m    443\u001b[0m \u001b[39mdef\u001b[39;00m \u001b[39mget\u001b[39m(\u001b[39mself\u001b[39m, url: \u001b[39mstr\u001b[39m) \u001b[39m-\u001b[39m\u001b[39m>\u001b[39m \u001b[39mNone\u001b[39;00m:\n\u001b[0;32m    444\u001b[0m     \u001b[39m\"\"\"\u001b[39;00m\n\u001b[0;32m    445\u001b[0m \u001b[39m    Loads a web page in the current browser session.\u001b[39;00m\n\u001b[0;32m    446\u001b[0m \u001b[39m    \"\"\"\u001b[39;00m\n\u001b[1;32m--> 447\u001b[0m     \u001b[39mself\u001b[39;49m\u001b[39m.\u001b[39;49mexecute(Command\u001b[39m.\u001b[39;49mGET, {\u001b[39m'\u001b[39;49m\u001b[39murl\u001b[39;49m\u001b[39m'\u001b[39;49m: url})\n",
      "File \u001b[1;32mc:\\Users\\daryo\\anaconda3\\lib\\site-packages\\selenium\\webdriver\\remote\\webdriver.py:435\u001b[0m, in \u001b[0;36mWebDriver.execute\u001b[1;34m(self, driver_command, params)\u001b[0m\n\u001b[0;32m    433\u001b[0m response \u001b[39m=\u001b[39m \u001b[39mself\u001b[39m\u001b[39m.\u001b[39mcommand_executor\u001b[39m.\u001b[39mexecute(driver_command, params)\n\u001b[0;32m    434\u001b[0m \u001b[39mif\u001b[39;00m response:\n\u001b[1;32m--> 435\u001b[0m     \u001b[39mself\u001b[39;49m\u001b[39m.\u001b[39;49merror_handler\u001b[39m.\u001b[39;49mcheck_response(response)\n\u001b[0;32m    436\u001b[0m     response[\u001b[39m'\u001b[39m\u001b[39mvalue\u001b[39m\u001b[39m'\u001b[39m] \u001b[39m=\u001b[39m \u001b[39mself\u001b[39m\u001b[39m.\u001b[39m_unwrap_value(\n\u001b[0;32m    437\u001b[0m         response\u001b[39m.\u001b[39mget(\u001b[39m'\u001b[39m\u001b[39mvalue\u001b[39m\u001b[39m'\u001b[39m, \u001b[39mNone\u001b[39;00m))\n\u001b[0;32m    438\u001b[0m     \u001b[39mreturn\u001b[39;00m response\n",
      "File \u001b[1;32mc:\\Users\\daryo\\anaconda3\\lib\\site-packages\\selenium\\webdriver\\remote\\errorhandler.py:247\u001b[0m, in \u001b[0;36mErrorHandler.check_response\u001b[1;34m(self, response)\u001b[0m\n\u001b[0;32m    245\u001b[0m         alert_text \u001b[39m=\u001b[39m value[\u001b[39m'\u001b[39m\u001b[39malert\u001b[39m\u001b[39m'\u001b[39m]\u001b[39m.\u001b[39mget(\u001b[39m'\u001b[39m\u001b[39mtext\u001b[39m\u001b[39m'\u001b[39m)\n\u001b[0;32m    246\u001b[0m     \u001b[39mraise\u001b[39;00m exception_class(message, screen, stacktrace, alert_text)  \u001b[39m# type: ignore[call-arg]  # mypy is not smart enough here\u001b[39;00m\n\u001b[1;32m--> 247\u001b[0m \u001b[39mraise\u001b[39;00m exception_class(message, screen, stacktrace)\n",
      "\u001b[1;31mWebDriverException\u001b[0m: Message: chrome not reachable\n  (Session info: chrome=104.0.5112.81)\nStacktrace:\nBacktrace:\n\tOrdinal0 [0x00586463+2188387]\n\tOrdinal0 [0x0051E461+1762401]\n\tOrdinal0 [0x00433C40+801856]\n\tOrdinal0 [0x00428932+756018]\n\tOrdinal0 [0x00429168+758120]\n\tOrdinal0 [0x0042AA22+764450]\n\tOrdinal0 [0x00424379+738169]\n\tOrdinal0 [0x004350D0+807120]\n\tOrdinal0 [0x0048C402+1164290]\n\tOrdinal0 [0x0047C5F6+1099254]\n\tOrdinal0 [0x00456BE0+945120]\n\tOrdinal0 [0x00457AD6+948950]\n\tGetHandleVerifier [0x008271F2+2712546]\n\tGetHandleVerifier [0x0081886D+2652765]\n\tGetHandleVerifier [0x0061002A+520730]\n\tGetHandleVerifier [0x0060EE06+516086]\n\tOrdinal0 [0x0052468B+1787531]\n\tOrdinal0 [0x00528E88+1805960]\n\tOrdinal0 [0x00528F75+1806197]\n\tOrdinal0 [0x00531DF1+1842673]\n\tBaseThreadInitThunk [0x764CFA29+25]\n\tRtlGetAppContainerNamedObjectPath [0x77A47A7E+286]\n\tRtlGetAppContainerNamedObjectPath [0x77A47A4E+238]\n"
     ]
    }
   ],
   "source": [
    "chrome_options = Options()\n",
    "\n",
    "# chrome_options.add_argument(\"--headless\")\n",
    "\n",
    "driver = webdriver.Chrome(options=chrome_options)\n",
    "\n",
    "#Minimmize the browser\n",
    "driver.minimize_window()\n",
    "\n",
    "#Remove cookies\n",
    "driver.delete_all_cookies()\n",
    "\n",
    "#open the webpage\n",
    "driver.get(\"http://www.instagram.com\")\n",
    "\n",
    "# Remove Pop-up\n",
    "driver.find_element(By.XPATH, \"//button[text()='Permitir solo cookies necesarias']\").click()\n",
    "\n",
    "#target username\n",
    "username = WebDriverWait(driver, 5).until(EC.element_to_be_clickable((By.CSS_SELECTOR, \"input[name='username']\")))\n",
    "password = WebDriverWait(driver, 5).until(EC.element_to_be_clickable((By.CSS_SELECTOR, \"input[name='password']\")))\n",
    "\n",
    "driver.save_screenshot('screenshot.png')  \n",
    "\n",
    "#enter username and password\n",
    "username.clear()\n",
    "username.send_keys(\"enriquemondejar15@hotmail.com\")\n",
    "password.clear()\n",
    "password.send_keys(\"Mondejar1996\")\n",
    "\n",
    "#target the login button and click it\n",
    "time.sleep(2)\n",
    "button = WebDriverWait(driver, 2).until(EC.element_to_be_clickable((By.CSS_SELECTOR, \"button[type='submit']\"))).click()\n",
    "\n",
    "#target the search input field\n",
    "searchbox = WebDriverWait(driver, 5).until(EC.element_to_be_clickable((By.XPATH, \"//input[@placeholder='Busca']\")))\n",
    "searchbox.clear()\n",
    "\n",
    "#search for the hashtag cat\n",
    "keyword = \"albaramoss8\"\n",
    "searchbox.send_keys(keyword)\n",
    "\n",
    "#Wait for the search results to load\n",
    "time.sleep(10)\n",
    "searchbox.send_keys(Keys.ENTER)\n",
    "time.sleep(10)\n",
    "searchbox.send_keys(Keys.ENTER)\n",
    "time.sleep(10)\n",
    "\n",
    "# Scroll down and wait for the images to load, then click scroll down again\n",
    "# Excute the following code until the scroll bar is at the bottom\n",
    "\n",
    "driver.execute_script(\"window.scrollTo(0,document.body.scrollHeight)\")\n",
    "time.sleep(5)\n",
    "driver.execute_script(\"window.scrollTo(0,document.body.scrollHeight)\")\n",
    "time.sleep(5)\n",
    "driver.execute_script(\"window.scrollTo(0,document.body.scrollHeight)\")\n",
    "time.sleep(5)\n",
    "\n",
    "# Cretae a list of images\n",
    "images = WebDriverWait(driver, 5).until(EC.presence_of_all_elements_located((By.CSS_SELECTOR, \"img\")))\n",
    "image_list = []\n",
    "\n",
    "for image in images:\n",
    "    image_list.append(image.get_attribute(\"src\"))\n",
    "\n",
    "\n",
    "print('Number of scraped images: ', len(images))\n",
    "\n",
    "# Save te images in './img/instagram'\n",
    "for i in range(len(image_list)):\n",
    "    driver.get(image_list[i])\n",
    "    driver.save_screenshot('./img/instagram/' + str(i) + '.png')\n",
    "\n",
    "\n",
    "\n",
    "# driver.quit()\n"
   ]
  }
 ],
 "metadata": {
  "kernelspec": {
   "display_name": "Python 3.9.12 ('base')",
   "language": "python",
   "name": "python3"
  },
  "language_info": {
   "codemirror_mode": {
    "name": "ipython",
    "version": 3
   },
   "file_extension": ".py",
   "mimetype": "text/x-python",
   "name": "python",
   "nbconvert_exporter": "python",
   "pygments_lexer": "ipython3",
   "version": "3.9.12"
  },
  "vscode": {
   "interpreter": {
    "hash": "77c67c8aafc2b278b5462462fbf4cd0da3abe4419d1b63101a0468cf93fa7d37"
   }
  }
 },
 "nbformat": 4,
 "nbformat_minor": 4
}
