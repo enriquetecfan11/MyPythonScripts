{
 "cells": [
  {
   "cell_type": "code",
   "execution_count": null,
   "metadata": {},
   "outputs": [],
   "source": [
    "!pip install pandas\n",
    "!pip install requests\n",
    "!pip install bs4"
   ]
  },
  {
   "cell_type": "code",
   "execution_count": null,
   "metadata": {},
   "outputs": [],
   "source": [
    "from bs4 import BeautifulSoup\n",
    "import requests\n",
    "import pandas as pd\n",
    "from requests.exceptions import ChunkedEncodingError\n",
    "import re\n",
    "import os\n",
    "from deep_translator import GoogleTranslator\n",
    "import glob"
   ]
  },
  {
   "cell_type": "code",
   "execution_count": null,
   "metadata": {},
   "outputs": [],
   "source": [
    "url = \"https://ideasai.com/\"  # Sustituye esto por la URL de la página que quieres scrapear\n",
    "response = requests.get(url)\n",
    "soup = BeautifulSoup(response.text, 'html.parser')\n"
   ]
  },
  {
   "cell_type": "code",
   "execution_count": null,
   "metadata": {},
   "outputs": [],
   "source": [
    "# Ahora puedes usar 'soup' para encontrar elementos en la página. Por ejemplo:\n",
    "titulo = soup.find('title').text # Esto obtendrá el título de la página\n",
    "titulo"
   ]
  },
  {
   "cell_type": "code",
   "execution_count": null,
   "metadata": {},
   "outputs": [],
   "source": [
    "# All .tag-link inside <div class=\"tag-container\">\n",
    "tags = soup.find('div', attrs={'class': 'tag-container'}).find_all('a', attrs={'class': 'tag-link'})\n",
    "\n",
    "tags_list = []\n",
    "\n",
    "for tag in tags:\n",
    "    tags_list.append(tag.text)\n",
    "    \n",
    "    num_tags = len(tags_list)\n",
    "    \n",
    "print(f\"El número de etiquetas es: {num_tags}\")"
   ]
  },
  {
   "cell_type": "code",
   "execution_count": null,
   "metadata": {},
   "outputs": [],
   "source": [
    "# Enter in one of the tags and get h3 classname .idea\n",
    "tag = tags_list[0]\n",
    "tag_url = url + tag\n",
    "tag_url\n",
    "\n",
    "response = requests.get(tag_url)\n",
    "soup = BeautifulSoup(response.text, 'html.parser')\n",
    "\n",
    "ideas = soup.find_all('h3', attrs={'class': 'idea'})\n",
    "\n",
    "ideas_list = []\n",
    "\n",
    "for idea in ideas:\n",
    "    ideas_list.append(idea.text)\n",
    "    num_ideas = len(ideas_list)\n",
    "\n",
    "print(f\"El número de ideas es: {num_ideas}\")"
   ]
  },
  {
   "cell_type": "code",
   "execution_count": null,
   "metadata": {},
   "outputs": [],
   "source": [
    "# create an empty list to store the data\n",
    "data = []\n",
    "\n",
    "# iterate over all the tags\n",
    "for i, tag in enumerate(tags_list, 1):\n",
    "    try:\n",
    "        tag_url = url + tag\n",
    "        response = requests.get(tag_url)\n",
    "        response.raise_for_status()  # verifica si hay errores en la respuesta HTTP\n",
    "        soup = BeautifulSoup(response.text, 'html.parser')\n",
    "        ideas = soup.find_all('h3', attrs={'class': 'idea'})\n",
    "        for idea in ideas:\n",
    "            data.append({'Tag': tag, 'Idea': idea.text})\n",
    "        print(f\"Enlaces procesados: {i}, Enlaces restantes: {len(tags_list) - i}\")\n",
    "    except ChunkedEncodingError as e:\n",
    "        print(f\"Error: {e}. Reintentando...\")\n",
    "\n",
    "# create a dataframe from the list\n",
    "df = pd.DataFrame(data)\n",
    "\n",
    "# save the results into a CSV file\n",
    "df.to_csv('ideas.csv', index=False)"
   ]
  },
  {
   "cell_type": "code",
   "execution_count": null,
   "metadata": {},
   "outputs": [],
   "source": [
    "# Cargar el archivo CSV en un DataFrame\n",
    "df = pd.read_csv('ideas.csv')\n",
    "\n",
    "# Limpiar la columna 'Idea' usando expresiones regulares\n",
    "df['Tag'] = df['Tag'].apply(lambda x: re.sub(r'\\s+', ' ', x).strip())\n",
    "\n",
    "# Guardar el DataFrame modificado en un nuevo archivo CSV\n",
    "df.to_csv('ideas_limpias.csv', index=False)"
   ]
  },
  {
   "cell_type": "code",
   "execution_count": null,
   "metadata": {},
   "outputs": [],
   "source": [
    "# Cargar el archivo CSV modificado en un DataFrame\n",
    "df_modificado = pd.read_csv('ideas_limpias.csv')\n",
    "\n",
    "# Imprimir el DataFrame\n",
    "df_modificado.head()"
   ]
  },
  {
   "cell_type": "code",
   "execution_count": null,
   "metadata": {},
   "outputs": [],
   "source": [
    "# Load the modified CSV file into a DataFrame\n",
    "df = pd.read_csv('ideas_limpias.csv')\n",
    "\n",
    "# Translate the 'Idea' column from English to Spanish using GoogleTranslator\n",
    "df['ideas'] = df['Idea'].apply(lambda x: GoogleTranslator(source='en', target='es').translate(x))\n",
    "\n",
    "# Drop the original 'Idea' column\n",
    "df.drop('Idea', axis=1, inplace=True)\n",
    "\n",
    "# Save the translated DataFrame to a new CSV file\n",
    "df.to_csv('ideas_traducidas.csv', index=False)\n",
    "\n",
    "# Load the translated CSV file into a DataFrame\n",
    "df.head()\n"
   ]
  },
  {
   "cell_type": "code",
   "execution_count": null,
   "metadata": {},
   "outputs": [],
   "source": [
    "# Cargar el archivo CSV en un DataFrame\n",
    "df = pd.read_csv('ideas_limpias.csv')\n",
    "\n",
    "# Cargar el archivo CSV en un DataFrame\n",
    "df = pd.read_csv('ideas_limpias.csv')\n",
    "\n",
    "print(f\"El número de ideas es: {df.shape[0]}\")\n",
    "\n",
    "# Check in csv what are the most repeated tags\n",
    "repeated = df['Tag'].value_counts()\n",
    "\n",
    "print(f\"El número de etiquetas es: {repeated.shape[0]}\")\n"
   ]
  },
  {
   "cell_type": "code",
   "execution_count": null,
   "metadata": {},
   "outputs": [],
   "source": [
    "# Cargar el archivo CSV en un DataFrame\n",
    "df = pd.read_csv('ideas_limpias.csv')\n",
    "\n",
    "# Crear la carpeta si no existe\n",
    "carpeta_export = 'csv-export'\n",
    "os.makedirs(carpeta_export, exist_ok=True)\n",
    "\n",
    "# Dividir el DataFrame por etiquetas y guardar cada subconjunto en un archivo en la carpeta\n",
    "for etiqueta, subconjunto in df.groupby('Tag'):\n",
    "    # Crear el nombre del archivo y la ruta en la carpeta\n",
    "    nombre_archivo = f'{etiqueta}_subconjunto.csv'\n",
    "    ruta_archivo = os.path.join(carpeta_export, nombre_archivo)\n",
    "    \n",
    "    # Guardar el subconjunto en el archivo en la carpeta\n",
    "    subconjunto.to_csv(ruta_archivo, index=False)\n",
    "\n",
    "    print(f'Se ha creado el archivo {ruta_archivo} con {len(subconjunto)} filas.')\n"
   ]
  },
  {
   "cell_type": "code",
   "execution_count": 40,
   "metadata": {},
   "outputs": [
    {
     "name": "stdout",
     "output_type": "stream",
     "text": [
      "Se han creado 1635 archivos JSON en la carpeta json-export.\n"
     ]
    }
   ],
   "source": [
    "# Carpeta de exportación para CSV y JSON\n",
    "carpeta_csv = 'csv-export'\n",
    "carpeta_export = 'json-export'\n",
    "os.makedirs(carpeta_export, exist_ok=True)\n",
    "\n",
    "# Obtener la lista de archivos CSV en la carpeta csv-export\n",
    "archivos_csv = glob.glob(os.path.join(carpeta_csv, '*.csv'))\n",
    "\n",
    "# Iterar sobre los archivos CSV\n",
    "for archivo_csv in archivos_csv:\n",
    "    # Leer el archivo CSV en un DataFrame\n",
    "    df = pd.read_csv(archivo_csv)\n",
    "\n",
    "    # Agregar un campo ID al DataFrame\n",
    "    df['ID'] = range(1, len(df) + 1)\n",
    "\n",
    "    # Reorganizar las columnas para tener el campo \"ID\" primero\n",
    "    df = df[['ID', 'Tag', 'Idea']]\n",
    "\n",
    "    # Crear el nombre del archivo JSON\n",
    "    nombre_json = os.path.splitext(os.path.basename(archivo_csv))[0] + '.json'\n",
    "    ruta_json = os.path.join(carpeta_export, nombre_json)\n",
    "\n",
    "    # Guardar el DataFrame como JSON en la carpeta de exportación\n",
    "    df.to_json(ruta_json, orient='records', lines=True)\n",
    "print(f'Se han creado {len(archivos_csv)} archivos JSON en la carpeta {carpeta_export}.')"
   ]
  }
 ],
 "metadata": {
  "kernelspec": {
   "display_name": "LLMLocal",
   "language": "python",
   "name": "python3"
  },
  "language_info": {
   "codemirror_mode": {
    "name": "ipython",
    "version": 3
   },
   "file_extension": ".py",
   "mimetype": "text/x-python",
   "name": "python",
   "nbconvert_exporter": "python",
   "pygments_lexer": "ipython3",
   "version": "3.11.5"
  }
 },
 "nbformat": 4,
 "nbformat_minor": 2
}
