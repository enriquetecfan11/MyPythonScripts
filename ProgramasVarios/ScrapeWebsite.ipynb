{
 "cells": [
  {
   "cell_type": "code",
   "execution_count": null,
   "metadata": {},
   "outputs": [],
   "source": [
    "!pip install pandas\n",
    "!pip install requests\n",
    "!pip install bs4"
   ]
  },
  {
   "cell_type": "code",
   "execution_count": null,
   "metadata": {},
   "outputs": [],
   "source": [
    "from bs4 import BeautifulSoup\n",
    "import requests\n",
    "import pandas as pd"
   ]
  },
  {
   "cell_type": "code",
   "execution_count": null,
   "metadata": {},
   "outputs": [],
   "source": [
    "url = \"https://ideasai.com/\"  # Sustituye esto por la URL de la página que quieres scrapear\n",
    "response = requests.get(url)\n",
    "soup = BeautifulSoup(response.text, 'html.parser')\n"
   ]
  },
  {
   "cell_type": "code",
   "execution_count": null,
   "metadata": {},
   "outputs": [],
   "source": [
    "# Ahora puedes usar 'soup' para encontrar elementos en la página. Por ejemplo:\n",
    "titulo = soup.find('title').text # Esto obtendrá el título de la página\n",
    "titulo"
   ]
  },
  {
   "cell_type": "code",
   "execution_count": null,
   "metadata": {},
   "outputs": [],
   "source": [
    "# All .tag-link inside <div class=\"tag-container\">\n",
    "tags = soup.find('div', attrs={'class': 'tag-container'}).find_all('a', attrs={'class': 'tag-link'})\n",
    "\n",
    "tags_list = []\n",
    "\n",
    "for tag in tags:\n",
    "    tags_list.append(tag.text)\n",
    "    \n",
    "    num_tags = len(tags_list)\n",
    "    \n",
    "print(f\"El número de etiquetas es: {num_tags}\")"
   ]
  },
  {
   "cell_type": "code",
   "execution_count": null,
   "metadata": {},
   "outputs": [],
   "source": [
    "# Enter in one of the tags and get h3 classname .idea\n",
    "tag = tags_list[0]\n",
    "tag_url = url + tag\n",
    "tag_url\n",
    "\n",
    "response = requests.get(tag_url)\n",
    "soup = BeautifulSoup(response.text, 'html.parser')\n",
    "\n",
    "ideas = soup.find_all('h3', attrs={'class': 'idea'})\n",
    "\n",
    "ideas_list = []\n",
    "\n",
    "for idea in ideas:\n",
    "    ideas_list.append(idea.text)\n",
    "    num_ideas = len(ideas_list)\n",
    "\n",
    "print(f\"El número de ideas es: {num_ideas}\")"
   ]
  },
  {
   "cell_type": "code",
   "execution_count": null,
   "metadata": {},
   "outputs": [],
   "source": [
    "# create an empty dataframe to store the results\n",
    "df = pd.DataFrame(columns=['Tag', 'Idea'])\n",
    "\n",
    "# iterate over all the tags\n",
    "for tag in tags_list:\n",
    "  tag_url = url + tag\n",
    "  response = requests.get(tag_url)\n",
    "  soup = BeautifulSoup(response.text, 'html.parser')\n",
    "  ideas = soup.find_all('h3', attrs={'class': 'idea'})\n",
    "  for idea in ideas:\n",
    "    df = df.append({'Tag': tag, 'Idea': idea.text}, ignore_index=True)\n",
    "\n",
    "# save the results into a CSV file\n",
    "df.to_csv('ideas.csv', index=False)\n",
    "\n"
   ]
  }
 ],
 "metadata": {
  "kernelspec": {
   "display_name": "LLMLocal",
   "language": "python",
   "name": "python3"
  },
  "language_info": {
   "codemirror_mode": {
    "name": "ipython",
    "version": 3
   },
   "file_extension": ".py",
   "mimetype": "text/x-python",
   "name": "python",
   "nbconvert_exporter": "python",
   "pygments_lexer": "ipython3",
   "version": "3.11.5"
  }
 },
 "nbformat": 4,
 "nbformat_minor": 2
}
