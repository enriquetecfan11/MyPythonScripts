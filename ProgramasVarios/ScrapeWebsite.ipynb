{
 "cells": [
  {
   "cell_type": "code",
   "execution_count": null,
   "metadata": {},
   "outputs": [],
   "source": [
    "!pip install pandas\n",
    "!pip install requests\n",
    "!pip install bs4"
   ]
  },
  {
   "cell_type": "code",
   "execution_count": 10,
   "metadata": {},
   "outputs": [],
   "source": [
    "from bs4 import BeautifulSoup\n",
    "import requests\n",
    "import pandas as pd\n",
    "from requests.exceptions import ChunkedEncodingError\n",
    "import re\n"
   ]
  },
  {
   "cell_type": "code",
   "execution_count": null,
   "metadata": {},
   "outputs": [],
   "source": [
    "url = \"https://ideasai.com/\"  # Sustituye esto por la URL de la página que quieres scrapear\n",
    "response = requests.get(url)\n",
    "soup = BeautifulSoup(response.text, 'html.parser')\n"
   ]
  },
  {
   "cell_type": "code",
   "execution_count": null,
   "metadata": {},
   "outputs": [],
   "source": [
    "# Ahora puedes usar 'soup' para encontrar elementos en la página. Por ejemplo:\n",
    "titulo = soup.find('title').text # Esto obtendrá el título de la página\n",
    "titulo"
   ]
  },
  {
   "cell_type": "code",
   "execution_count": null,
   "metadata": {},
   "outputs": [],
   "source": [
    "# All .tag-link inside <div class=\"tag-container\">\n",
    "tags = soup.find('div', attrs={'class': 'tag-container'}).find_all('a', attrs={'class': 'tag-link'})\n",
    "\n",
    "tags_list = []\n",
    "\n",
    "for tag in tags:\n",
    "    tags_list.append(tag.text)\n",
    "    \n",
    "    num_tags = len(tags_list)\n",
    "    \n",
    "print(f\"El número de etiquetas es: {num_tags}\")"
   ]
  },
  {
   "cell_type": "code",
   "execution_count": null,
   "metadata": {},
   "outputs": [],
   "source": [
    "# Enter in one of the tags and get h3 classname .idea\n",
    "tag = tags_list[0]\n",
    "tag_url = url + tag\n",
    "tag_url\n",
    "\n",
    "response = requests.get(tag_url)\n",
    "soup = BeautifulSoup(response.text, 'html.parser')\n",
    "\n",
    "ideas = soup.find_all('h3', attrs={'class': 'idea'})\n",
    "\n",
    "ideas_list = []\n",
    "\n",
    "for idea in ideas:\n",
    "    ideas_list.append(idea.text)\n",
    "    num_ideas = len(ideas_list)\n",
    "\n",
    "print(f\"El número de ideas es: {num_ideas}\")"
   ]
  },
  {
   "cell_type": "code",
   "execution_count": null,
   "metadata": {},
   "outputs": [],
   "source": [
    "# create an empty list to store the data\n",
    "data = []\n",
    "\n",
    "# iterate over all the tags\n",
    "for i, tag in enumerate(tags_list, 1):\n",
    "    try:\n",
    "        tag_url = url + tag\n",
    "        response = requests.get(tag_url)\n",
    "        response.raise_for_status()  # verifica si hay errores en la respuesta HTTP\n",
    "        soup = BeautifulSoup(response.text, 'html.parser')\n",
    "        ideas = soup.find_all('h3', attrs={'class': 'idea'})\n",
    "        for idea in ideas:\n",
    "            data.append({'Tag': tag, 'Idea': idea.text})\n",
    "        print(f\"Enlaces procesados: {i}, Enlaces restantes: {len(tags_list) - i}\")\n",
    "    except ChunkedEncodingError as e:\n",
    "        print(f\"Error: {e}. Reintentando...\")\n",
    "\n",
    "# create a dataframe from the list\n",
    "df = pd.DataFrame(data)\n",
    "\n",
    "# save the results into a CSV file\n",
    "df.to_csv('ideas.csv', index=False)"
   ]
  },
  {
   "cell_type": "code",
   "execution_count": 15,
   "metadata": {},
   "outputs": [],
   "source": [
    "# Cargar el archivo CSV en un DataFrame\n",
    "df = pd.read_csv('ideas.csv')\n",
    "\n",
    "# Limpiar la columna 'Idea' usando expresiones regulares\n",
    "df['Tag'] = df['Tag'].apply(lambda x: re.sub(r'\\s+', ' ', x).strip())\n",
    "\n",
    "# Guardar el DataFrame modificado en un nuevo archivo CSV\n",
    "df.to_csv('ideas_limpias.csv', index=False)"
   ]
  },
  {
   "cell_type": "code",
   "execution_count": 16,
   "metadata": {},
   "outputs": [
    {
     "data": {
      "text/html": [
       "<div>\n",
       "<style scoped>\n",
       "    .dataframe tbody tr th:only-of-type {\n",
       "        vertical-align: middle;\n",
       "    }\n",
       "\n",
       "    .dataframe tbody tr th {\n",
       "        vertical-align: top;\n",
       "    }\n",
       "\n",
       "    .dataframe thead th {\n",
       "        text-align: right;\n",
       "    }\n",
       "</style>\n",
       "<table border=\"1\" class=\"dataframe\">\n",
       "  <thead>\n",
       "    <tr style=\"text-align: right;\">\n",
       "      <th></th>\n",
       "      <th>Tag</th>\n",
       "      <th>Idea</th>\n",
       "    </tr>\n",
       "  </thead>\n",
       "  <tbody>\n",
       "    <tr>\n",
       "      <th>0</th>\n",
       "      <td>Platform Startup Ideas</td>\n",
       "      <td>A startup building an online platform for recr...</td>\n",
       "    </tr>\n",
       "    <tr>\n",
       "      <th>1</th>\n",
       "      <td>Platform Startup Ideas</td>\n",
       "      <td>An online marketplace for tutors for students ...</td>\n",
       "    </tr>\n",
       "    <tr>\n",
       "      <th>2</th>\n",
       "      <td>Platform Startup Ideas</td>\n",
       "      <td>A home energy management system that maintains...</td>\n",
       "    </tr>\n",
       "    <tr>\n",
       "      <th>3</th>\n",
       "      <td>Platform Startup Ideas</td>\n",
       "      <td>A web-based system for managing and tracking t...</td>\n",
       "    </tr>\n",
       "    <tr>\n",
       "      <th>4</th>\n",
       "      <td>Platform Startup Ideas</td>\n",
       "      <td>The app, which is for kids ages 4-8, helps kid...</td>\n",
       "    </tr>\n",
       "  </tbody>\n",
       "</table>\n",
       "</div>"
      ],
      "text/plain": [
       "                      Tag                                               Idea\n",
       "0  Platform Startup Ideas  A startup building an online platform for recr...\n",
       "1  Platform Startup Ideas  An online marketplace for tutors for students ...\n",
       "2  Platform Startup Ideas  A home energy management system that maintains...\n",
       "3  Platform Startup Ideas  A web-based system for managing and tracking t...\n",
       "4  Platform Startup Ideas  The app, which is for kids ages 4-8, helps kid..."
      ]
     },
     "execution_count": 16,
     "metadata": {},
     "output_type": "execute_result"
    }
   ],
   "source": [
    "# Cargar el archivo CSV modificado en un DataFrame\n",
    "df_modificado = pd.read_csv('ideas_limpias.csv')\n",
    "\n",
    "# Imprimir el DataFrame\n",
    "df_modificado.head()"
   ]
  },
  {
   "cell_type": "code",
   "execution_count": 17,
   "metadata": {},
   "outputs": [],
   "source": [
    "# Convert CSV to JSON\n",
    "df.to_json('ideas_limpias.json', orient='records')\n",
    "\n",
    "# Read the JSON file\n",
    "df = pd.read_json('ideas_limpias.json')\n"
   ]
  }
 ],
 "metadata": {
  "kernelspec": {
   "display_name": "LLMLocal",
   "language": "python",
   "name": "python3"
  },
  "language_info": {
   "codemirror_mode": {
    "name": "ipython",
    "version": 3
   },
   "file_extension": ".py",
   "mimetype": "text/x-python",
   "name": "python",
   "nbconvert_exporter": "python",
   "pygments_lexer": "ipython3",
   "version": "3.11.5"
  }
 },
 "nbformat": 4,
 "nbformat_minor": 2
}
