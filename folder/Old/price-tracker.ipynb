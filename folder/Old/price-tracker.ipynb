{
 "cells": [
  {
   "cell_type": "code",
   "execution_count": 36,
   "metadata": {},
   "outputs": [],
   "source": [
    "from selenium import webdriver\n",
    "from selenium.webdriver.common.keys import Keys\n",
    "from selenium.webdriver.support import expected_conditions as EC\n",
    "from selenium.webdriver.common.by import By\n",
    "from selenium.webdriver.support.wait import WebDriverWait\n",
    "from selenium.webdriver.chrome.options import Options\n",
    "from selenium.webdriver.chrome.options import Options\n",
    "from selenium.webdriver.chrome.service import Service\n",
    "from webdriver_manager.chrome import ChromeDriverManager\n",
    "\n",
    "import pandas as pd\n",
    "\n",
    "import time\n",
    "\n",
    "import "
   ]
  },
  {
   "cell_type": "code",
   "execution_count": 37,
   "metadata": {},
   "outputs": [
    {
     "name": "stdout",
     "output_type": "stream",
     "text": [
      "Page title is: Amazon.com : raspberry pi\n",
      "Page Charged Successfully\n"
     ]
    }
   ],
   "source": [
    "# Chrome Options\n",
    "chrome_options = Options()\n",
    "\n",
    "# chrome_options.add_argument(\"--headless\")\n",
    "\n",
    "#driver = webdriver.Chrome(options=chrome_options)\n",
    "driver = webdriver.Chrome(service=Service(ChromeDriverManager().install()))\n",
    "\n",
    "\n",
    "#Minimmize the browser\n",
    "# driver.minimize_window()\n",
    "\n",
    "#Remove cookies\n",
    "driver.delete_all_cookies()\n",
    "\n",
    "url = \"https://www.amazon.com/s?k=raspberry+pi&language=es_ES&currency=EUR\"\n",
    "\n",
    "driver.get(url)\n",
    "\n",
    "# Wait for the page to load\n",
    "time.sleep(2)\n",
    "\n",
    "print(\"Page title is: \" + driver.title)\n",
    "print(\"Page Charged Successfully\")\n"
   ]
  },
  {
   "cell_type": "code",
   "execution_count": 38,
   "metadata": {},
   "outputs": [],
   "source": [
    "# When the page is loaded scroll down to the bottom slowly\n",
    "driver.execute_script(\"window.scrollTo(0, document.body.scrollHeight);\")"
   ]
  },
  {
   "cell_type": "code",
   "execution_count": 39,
   "metadata": {},
   "outputs": [],
   "source": [
    "def getProducts(name):\n",
    "    # Name of the products\n",
    "    products = driver.find_elements(By.XPATH, \"//span[@class='a-size-medium a-color-base a-text-normal']\")\n",
    "\n",
    "    # Ge the name of the products\n",
    "    names = []\n",
    "\n",
    "    for product in products:\n",
    "        names.append(product.text)\n",
    "    \n",
    "    # if(len(names) == 40):\n",
    "    #     break\n",
    "\n",
    "    # print(names)\n",
    "    #print(\"\\n\")\n",
    "    print(\"Tamaño de la lista de nombres: \", len(names))\n",
    "\n",
    "    # Price of the products\n",
    "    prices = driver.find_elements(By.XPATH, \"//span[@class='a-price-whole']\")\n",
    "\n",
    "    # Get the price of the products\n",
    "    prices_list = []\n",
    "\n",
    "    for price in prices:\n",
    "        prices_list.append(price.text)\n",
    "\n",
    "    # print(prices_list)\n",
    "    # print(\"\\n\")\n",
    "    print(\"Tamaño de la lista de precios: \", len(prices_list))\n",
    "\n",
    "    # Get the link of the products\n",
    "    #class=\"a-link-normal s-underline-text s-underline-link-text s-link-style a-text-normal\"\n",
    "    \n",
    "    links = driver.find_elements(By.XPATH, \"//a[@class='a-link-normal s-underline-text s-underline-link-text s-link-style a-text-normal']\")\n",
    "\n",
    "    # Get the link of the products\n",
    "    links_list = []\n",
    "\n",
    "    for link in links:\n",
    "        links_list.append(link.get_attribute(\"href\"))\n",
    "\n",
    "    # print(links_list)\n",
    "    # print(\"\\n\")\n",
    "    print(\"Tamaño de la lista de links: \", len(links_list))\n",
    "\n",
    "\n",
    "    # Create a dataframe with the information\n",
    "    # The dataframe will have id as index and the other columns as columns\n",
    "\n",
    "    df = pd.DataFrame(columns=[\"ID\", \"Name\", \"Price\", \"Link\"])\n",
    "\n",
    "    for i in range(len(names)):\n",
    "        df.loc[i] = [i, names[i], prices_list[i], links_list[i]]\n",
    "\n",
    "\n",
    "    # Remove the duplicates and null values\n",
    "    df = df.drop_duplicates()\n",
    "    df = df.dropna()\n",
    "\n",
    "    print(\"DF Shape: \" + str(df.shape))\n",
    "\n",
    "    df.to_csv(\"./amazon/\" + name + \".csv\", index=False)\n",
    "    df.to_json(\"./amazon/\" + name + \".json\", orient=\"records\")\n",
    "\n",
    "    print(name)\n",
    "    \n",
    "    print(\"SAVED CSV AND JSON SUCCESSFULLY\")\n",
    "\n"
   ]
  },
  {
   "cell_type": "code",
   "execution_count": 40,
   "metadata": {},
   "outputs": [
    {
     "name": "stdout",
     "output_type": "stream",
     "text": [
      "Tamaño de la lista de nombres:  22\n",
      "Tamaño de la lista de precios:  30\n",
      "Tamaño de la lista de links:  31\n",
      "DF Shape: (22, 4)\n",
      "pagina_1\n",
      "SAVED CSV AND JSON SUCCESSFULLY\n"
     ]
    }
   ],
   "source": [
    "getProducts(\"pagina_1\")\n",
    "time.sleep(2)"
   ]
  },
  {
   "cell_type": "code",
   "execution_count": 41,
   "metadata": {},
   "outputs": [],
   "source": [
    "# Close the browser\n",
    "driver.quit()"
   ]
  }
 ],
 "metadata": {
  "kernelspec": {
   "display_name": "Python 3.8.9 64-bit",
   "language": "python",
   "name": "python3"
  },
  "language_info": {
   "codemirror_mode": {
    "name": "ipython",
    "version": 3
   },
   "file_extension": ".py",
   "mimetype": "text/x-python",
   "name": "python",
   "nbconvert_exporter": "python",
   "pygments_lexer": "ipython3",
   "version": "3.8.9"
  },
  "orig_nbformat": 4,
  "vscode": {
   "interpreter": {
    "hash": "31f2aee4e71d21fbe5cf8b01ff0e069b9275f58929596ceb00d14d90e3e16cd6"
   }
  }
 },
 "nbformat": 4,
 "nbformat_minor": 2
}
