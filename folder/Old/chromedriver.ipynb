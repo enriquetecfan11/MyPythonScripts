{
 "cells": [
  {
   "cell_type": "code",
   "execution_count": 233,
   "metadata": {},
   "outputs": [],
   "source": [
    "import pandas as pd\n",
    "import requests\n",
    "import time\n",
    "import threading\n",
    "\n",
    "from selenium import webdriver\n",
    "from selenium.webdriver.common.keys import Keys\n",
    "from selenium.webdriver.common.by import By\n",
    "from selenium.webdriver.support.ui import WebDriverWait\n",
    "from selenium.webdriver.support import expected_conditions as EC\n",
    "from selenium import webdriver\n",
    "from selenium.webdriver.chrome.options import Options"
   ]
  },
  {
   "cell_type": "code",
   "execution_count": 234,
   "metadata": {},
   "outputs": [],
   "source": [
    "driver = webdriver.Chrome()\n",
    "\n",
    "driver.get(\"https://duckduckgo.com/\")\n",
    "\n",
    "# driver.implicitly_wait(10)\n",
    "\n",
    "search_box = driver.find_element(by=By.NAME, value=\"q\")\n",
    "search_button = driver.find_element(by=By.ID, value=\"search_button_homepage\")\n",
    "\n",
    "search_box.send_keys(\"Marca\")\n",
    "search_button.click()\n"
   ]
  },
  {
   "cell_type": "code",
   "execution_count": 235,
   "metadata": {},
   "outputs": [
    {
     "name": "stdout",
     "output_type": "stream",
     "text": [
      "Length of the list of links: 45\n",
      "Text of the first link: \n",
      "\n",
      "Text of the second link: https://www.marca.com\n",
      "\n",
      "Title of the page: MARCA - Diario online líder en información deportiva\n",
      "\n",
      "Cover title of the page: Laporta da marcha atrás\n",
      "\n",
      "First photo of the page: https://e00-marca.uecdn.es/assets/multimedia/imagenes/2022/08/09/16600395277936.jpg\n",
      "\n"
     ]
    }
   ],
   "source": [
    "# find all the links on the page\n",
    "links = driver.find_element(By.ID, \"links\")\n",
    "links_marca = links.find_elements(by=By.TAG_NAME, value=\"a\")\n",
    "\n",
    "\n",
    "# Get the length of the list of links\n",
    "print(\"Length of the list of links: \" + str(len(links_marca)))\n",
    "\n",
    "# Get the text of the first link\n",
    "print(\"Text of the first link: \" + links_marca[0].text + \"\\n\")\n",
    "print(\"Text of the second link: \" + links_marca[1].text + \"\\n\")\n",
    "\n",
    "sencond_link = links_marca[1]\n",
    "sencond_link.click()\n",
    "\n",
    "# Wait for the page to load\n",
    "time.sleep(5)\n",
    "\n",
    "# Make and screenshot of the page\n",
    "driver.save_screenshot(\"./img/cookies.png\")\n",
    "\n",
    "driver.find_element(by=By.ID, value=\"didomi-notice-agree-button\").click()\n",
    "\n",
    "driver.save_screenshot(\"./img/no-cookie-screnshoot.png\")\n",
    "\n",
    "# Get the title of the page\n",
    "title = driver.title\n",
    "print(\"Title of the page: \" + title + \"\\n\")\n",
    "\n",
    "# Get the cover title of the page\n",
    "cover_title = driver.find_element(\n",
    "    by=By.CLASS_NAME, value=\"ue-c-cover-content__headline\")\n",
    "print(\"Cover title of the page: \" + cover_title.text + \"\\n\")\n",
    "\n",
    "# Get the first photo of the page\n",
    "first_photo = driver.find_element(\n",
    "    by=By.CLASS_NAME, value=\"ue-c-cover-content__image\")\n",
    "print(\"First photo of the page: \" + first_photo.get_attribute(\"src\") + \"\\n\")\n",
    "\n",
    "# Save the first photo of the page\n",
    "first_photo.screenshot(\"./img/first_photo.png\")\n",
    "\n",
    "\n",
    "driver.quit()\n"
   ]
  },
  {
   "cell_type": "code",
   "execution_count": 240,
   "metadata": {},
   "outputs": [
    {
     "ename": "NoSuchElementException",
     "evalue": "Message: no such element: Unable to locate element: {\"method\":\"css selector\",\"selector\":\".imgº\"}\n  (Session info: chrome=103.0.5060.134)\nStacktrace:\nBacktrace:\n\tOrdinal0 [0x01016463+2188387]\n\tOrdinal0 [0x00FAE461+1762401]\n\tOrdinal0 [0x00EC3D78+802168]\n\tOrdinal0 [0x00EF1880+989312]\n\tOrdinal0 [0x00EF1B1B+989979]\n\tOrdinal0 [0x00F1E912+1173778]\n\tOrdinal0 [0x00F0C824+1099812]\n\tOrdinal0 [0x00F1CC22+1166370]\n\tOrdinal0 [0x00F0C5F6+1099254]\n\tOrdinal0 [0x00EE6BE0+945120]\n\tOrdinal0 [0x00EE7AD6+948950]\n\tGetHandleVerifier [0x012B71F2+2712546]\n\tGetHandleVerifier [0x012A886D+2652765]\n\tGetHandleVerifier [0x010A002A+520730]\n\tGetHandleVerifier [0x0109EE06+516086]\n\tOrdinal0 [0x00FB468B+1787531]\n\tOrdinal0 [0x00FB8E88+1805960]\n\tOrdinal0 [0x00FB8F75+1806197]\n\tOrdinal0 [0x00FC1DF1+1842673]\n\tBaseThreadInitThunk [0x764CFA29+25]\n\tRtlGetAppContainerNamedObjectPath [0x77A47A7E+286]\n\tRtlGetAppContainerNamedObjectPath [0x77A47A4E+238]\n",
     "output_type": "error",
     "traceback": [
      "\u001b[1;31m---------------------------------------------------------------------------\u001b[0m",
      "\u001b[1;31mNoSuchElementException\u001b[0m                    Traceback (most recent call last)",
      "\u001b[1;32mc:\\Users\\daryo\\Documents\\Kike\\python-googlesheets\\chromedriver.ipynb Cell 4\u001b[0m in \u001b[0;36m<cell line: 14>\u001b[1;34m()\u001b[0m\n\u001b[0;32m     <a href='vscode-notebook-cell:/c%3A/Users/daryo/Documents/Kike/python-googlesheets/chromedriver.ipynb#W5sZmlsZQ%3D%3D?line=10'>11</a>\u001b[0m time\u001b[39m.\u001b[39msleep(\u001b[39m30\u001b[39m)\n\u001b[0;32m     <a href='vscode-notebook-cell:/c%3A/Users/daryo/Documents/Kike/python-googlesheets/chromedriver.ipynb#W5sZmlsZQ%3D%3D?line=12'>13</a>\u001b[0m \u001b[39m# get the first photo of the page\u001b[39;00m\n\u001b[1;32m---> <a href='vscode-notebook-cell:/c%3A/Users/daryo/Documents/Kike/python-googlesheets/chromedriver.ipynb#W5sZmlsZQ%3D%3D?line=13'>14</a>\u001b[0m first_photo \u001b[39m=\u001b[39m driver\u001b[39m.\u001b[39;49mfind_element(by\u001b[39m=\u001b[39;49mBy\u001b[39m.\u001b[39;49mCLASS_NAME, value\u001b[39m=\u001b[39;49m\u001b[39m\"\u001b[39;49m\u001b[39mimgº\u001b[39;49m\u001b[39m\"\u001b[39;49m)\n\u001b[0;32m     <a href='vscode-notebook-cell:/c%3A/Users/daryo/Documents/Kike/python-googlesheets/chromedriver.ipynb#W5sZmlsZQ%3D%3D?line=14'>15</a>\u001b[0m driver\u001b[39m.\u001b[39msave_screenshot(\u001b[39m\"\u001b[39m\u001b[39m./img/instagram.png\u001b[39m\u001b[39m\"\u001b[39m)\n\u001b[0;32m     <a href='vscode-notebook-cell:/c%3A/Users/daryo/Documents/Kike/python-googlesheets/chromedriver.ipynb#W5sZmlsZQ%3D%3D?line=16'>17</a>\u001b[0m time\u001b[39m.\u001b[39msleep(\u001b[39m10\u001b[39m)\n",
      "File \u001b[1;32mc:\\Users\\daryo\\anaconda3\\lib\\site-packages\\selenium\\webdriver\\remote\\webdriver.py:857\u001b[0m, in \u001b[0;36mWebDriver.find_element\u001b[1;34m(self, by, value)\u001b[0m\n\u001b[0;32m    854\u001b[0m     by \u001b[39m=\u001b[39m By\u001b[39m.\u001b[39mCSS_SELECTOR\n\u001b[0;32m    855\u001b[0m     value \u001b[39m=\u001b[39m \u001b[39m'\u001b[39m\u001b[39m[name=\u001b[39m\u001b[39m\"\u001b[39m\u001b[39m%s\u001b[39;00m\u001b[39m\"\u001b[39m\u001b[39m]\u001b[39m\u001b[39m'\u001b[39m \u001b[39m%\u001b[39m value\n\u001b[1;32m--> 857\u001b[0m \u001b[39mreturn\u001b[39;00m \u001b[39mself\u001b[39;49m\u001b[39m.\u001b[39;49mexecute(Command\u001b[39m.\u001b[39;49mFIND_ELEMENT, {\n\u001b[0;32m    858\u001b[0m     \u001b[39m'\u001b[39;49m\u001b[39musing\u001b[39;49m\u001b[39m'\u001b[39;49m: by,\n\u001b[0;32m    859\u001b[0m     \u001b[39m'\u001b[39;49m\u001b[39mvalue\u001b[39;49m\u001b[39m'\u001b[39;49m: value})[\u001b[39m'\u001b[39m\u001b[39mvalue\u001b[39m\u001b[39m'\u001b[39m]\n",
      "File \u001b[1;32mc:\\Users\\daryo\\anaconda3\\lib\\site-packages\\selenium\\webdriver\\remote\\webdriver.py:435\u001b[0m, in \u001b[0;36mWebDriver.execute\u001b[1;34m(self, driver_command, params)\u001b[0m\n\u001b[0;32m    433\u001b[0m response \u001b[39m=\u001b[39m \u001b[39mself\u001b[39m\u001b[39m.\u001b[39mcommand_executor\u001b[39m.\u001b[39mexecute(driver_command, params)\n\u001b[0;32m    434\u001b[0m \u001b[39mif\u001b[39;00m response:\n\u001b[1;32m--> 435\u001b[0m     \u001b[39mself\u001b[39;49m\u001b[39m.\u001b[39;49merror_handler\u001b[39m.\u001b[39;49mcheck_response(response)\n\u001b[0;32m    436\u001b[0m     response[\u001b[39m'\u001b[39m\u001b[39mvalue\u001b[39m\u001b[39m'\u001b[39m] \u001b[39m=\u001b[39m \u001b[39mself\u001b[39m\u001b[39m.\u001b[39m_unwrap_value(\n\u001b[0;32m    437\u001b[0m         response\u001b[39m.\u001b[39mget(\u001b[39m'\u001b[39m\u001b[39mvalue\u001b[39m\u001b[39m'\u001b[39m, \u001b[39mNone\u001b[39;00m))\n\u001b[0;32m    438\u001b[0m     \u001b[39mreturn\u001b[39;00m response\n",
      "File \u001b[1;32mc:\\Users\\daryo\\anaconda3\\lib\\site-packages\\selenium\\webdriver\\remote\\errorhandler.py:247\u001b[0m, in \u001b[0;36mErrorHandler.check_response\u001b[1;34m(self, response)\u001b[0m\n\u001b[0;32m    245\u001b[0m         alert_text \u001b[39m=\u001b[39m value[\u001b[39m'\u001b[39m\u001b[39malert\u001b[39m\u001b[39m'\u001b[39m]\u001b[39m.\u001b[39mget(\u001b[39m'\u001b[39m\u001b[39mtext\u001b[39m\u001b[39m'\u001b[39m)\n\u001b[0;32m    246\u001b[0m     \u001b[39mraise\u001b[39;00m exception_class(message, screen, stacktrace, alert_text)  \u001b[39m# type: ignore[call-arg]  # mypy is not smart enough here\u001b[39;00m\n\u001b[1;32m--> 247\u001b[0m \u001b[39mraise\u001b[39;00m exception_class(message, screen, stacktrace)\n",
      "\u001b[1;31mNoSuchElementException\u001b[0m: Message: no such element: Unable to locate element: {\"method\":\"css selector\",\"selector\":\".imgº\"}\n  (Session info: chrome=103.0.5060.134)\nStacktrace:\nBacktrace:\n\tOrdinal0 [0x01016463+2188387]\n\tOrdinal0 [0x00FAE461+1762401]\n\tOrdinal0 [0x00EC3D78+802168]\n\tOrdinal0 [0x00EF1880+989312]\n\tOrdinal0 [0x00EF1B1B+989979]\n\tOrdinal0 [0x00F1E912+1173778]\n\tOrdinal0 [0x00F0C824+1099812]\n\tOrdinal0 [0x00F1CC22+1166370]\n\tOrdinal0 [0x00F0C5F6+1099254]\n\tOrdinal0 [0x00EE6BE0+945120]\n\tOrdinal0 [0x00EE7AD6+948950]\n\tGetHandleVerifier [0x012B71F2+2712546]\n\tGetHandleVerifier [0x012A886D+2652765]\n\tGetHandleVerifier [0x010A002A+520730]\n\tGetHandleVerifier [0x0109EE06+516086]\n\tOrdinal0 [0x00FB468B+1787531]\n\tOrdinal0 [0x00FB8E88+1805960]\n\tOrdinal0 [0x00FB8F75+1806197]\n\tOrdinal0 [0x00FC1DF1+1842673]\n\tBaseThreadInitThunk [0x764CFA29+25]\n\tRtlGetAppContainerNamedObjectPath [0x77A47A7E+286]\n\tRtlGetAppContainerNamedObjectPath [0x77A47A4E+238]\n"
     ]
    }
   ],
   "source": [
    "from selenium import webdriver\n",
    "import requests\n",
    "\n",
    "driver = webdriver.Chrome()\n",
    "driver.minimize_window()\n",
    "\n",
    "base_url = \"https://imginn.org/albaramoss8/\"\n",
    "handle = \"nobody\"  # it is real name\n",
    "driver.get(base_url)\n",
    "\n",
    "time.sleep(30)\n",
    "\n",
    "# get the first photo of the page\n",
    "first_photo = driver.find_element(by=By.CLASS_NAME, value=\"img\")\n",
    "driver.save_screenshot(\"./img/instagram.png\")\n",
    "\n",
    "time.sleep(10)\n",
    "# Save and screenshot the first photo of the page\n",
    "first_photo.screenshot(\"./img/first_photogram.png\")\n",
    "\n",
    "time.sleep(5)\n",
    "\n",
    "driver.quit()"
   ]
  }
 ],
 "metadata": {
  "kernelspec": {
   "display_name": "Python 3.9.12 ('base')",
   "language": "python",
   "name": "python3"
  },
  "language_info": {
   "codemirror_mode": {
    "name": "ipython",
    "version": 3
   },
   "file_extension": ".py",
   "mimetype": "text/x-python",
   "name": "python",
   "nbconvert_exporter": "python",
   "pygments_lexer": "ipython3",
   "version": "3.9.12"
  },
  "orig_nbformat": 4,
  "vscode": {
   "interpreter": {
    "hash": "77c67c8aafc2b278b5462462fbf4cd0da3abe4419d1b63101a0468cf93fa7d37"
   }
  }
 },
 "nbformat": 4,
 "nbformat_minor": 2
}
